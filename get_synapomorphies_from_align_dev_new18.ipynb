{
 "cells": [
  {
   "cell_type": "markdown",
   "metadata": {},
   "source": [
    "## Define synapomorphies from alignment, for different taxonomic levels"
   ]
  },
  {
   "cell_type": "code",
   "execution_count": 3,
   "metadata": {
    "collapsed": true
   },
   "outputs": [],
   "source": [
    "import numpy as np\n",
    "import pandas as pd\n",
    "import sqlite3\n",
    "#from __future__ import division\n",
    "from Bio import AlignIO"
   ]
  },
  {
   "cell_type": "markdown",
   "metadata": {},
   "source": [
    "### Start with synapomizer script had built before"
   ]
  },
  {
   "cell_type": "code",
   "execution_count": 4,
   "metadata": {
    "collapsed": true
   },
   "outputs": [],
   "source": [
    "# %load -r 22-32 /Users/hughcross/scripts/synapomizer.py\n",
    "def number_alleles(column):\n",
    "    leng = len(column)\n",
    "    bp_list = []\n",
    "    for bp in range(0,leng):\n",
    "        pos = column[bp]\n",
    "        if pos in bp_list:\n",
    "            pass\n",
    "        else:\n",
    "            bp_list.append(pos)\n",
    "    #no_alleles = len(bp_list) # maybe take out if a gap\n",
    "    return bp_list"
   ]
  },
  {
   "cell_type": "code",
   "execution_count": 5,
   "metadata": {
    "collapsed": true
   },
   "outputs": [],
   "source": [
    "# %load -r 34-49 /Users/hughcross/scripts/synapomizer.py\n",
    "def informative_alleles(character_dict):\n",
    "    \"\"\"a function to filter out uninformative positions\"\"\"\n",
    "    new_dict = {}\n",
    "    allele_list = []\n",
    "    for k,v in character_dict.items():\n",
    "        newd = v\n",
    "        for key,value in newd.items():\n",
    "            new_dict.setdefault(key, []).append(value)\n",
    "    #print new_dict\n",
    "    for keys, values in new_dict.items():\n",
    "        alleles = set(values)\n",
    "        #print keys\n",
    "        #print alleles\n",
    "        if len(alleles) > 1:\n",
    "            allele_list.append(keys)\n",
    "    return allele_list"
   ]
  },
  {
   "cell_type": "code",
   "execution_count": 6,
   "metadata": {
    "collapsed": true
   },
   "outputs": [],
   "source": [
    "# start with a file, then import muscle to make other alignments\n",
    "# %load -r 9-12 /Users/hughcross/scripts/synapomizer.py\n",
    "align_file = '/Users/hughcross/Analysis/CAMEL/cam2018/local_chenopod_ref_seqs alignment_for mapping.nex'\n",
    "alignment = AlignIO.read(align_file, 'nexus')\n",
    "length = alignment.get_alignment_length()"
   ]
  },
  {
   "cell_type": "code",
   "execution_count": 7,
   "metadata": {
    "collapsed": true
   },
   "outputs": [],
   "source": [
    "# %load -r 14-19 /Users/hughcross/scripts/synapomizer.py\n",
    "#create a dictionary with sample# : genus name ## note: need to make this part flexible so that different taxonomic levels can be used\n",
    "name_map = {} # also maybe make a list of each genus, and a dict where key = genus, values = number of species in genus\n",
    "genus_dict = {}\n",
    "sample_map = {}\n",
    "for i, record in enumerate(alignment):\n",
    "    fullname = record.id\n",
    "    newname = fullname.split('_')[0]\n",
    "    name_map[i]=newname\n",
    "    genus_dict.setdefault(newname, []).append(fullname)\n",
    "    sample_map[i]=fullname"
   ]
  },
  {
   "cell_type": "code",
   "execution_count": 9,
   "metadata": {},
   "outputs": [
    {
     "data": {
      "text/plain": [
       "'Salsola_kali_AD_b36'"
      ]
     },
     "execution_count": 9,
     "metadata": {},
     "output_type": "execute_result"
    }
   ],
   "source": [
    "sample_map[0]"
   ]
  },
  {
   "cell_type": "code",
   "execution_count": 10,
   "metadata": {},
   "outputs": [
    {
     "data": {
      "text/plain": [
       "['Sclerolaena_cuneata_AD_b32', 'Sclerolaena_deserticola_AD_b31']"
      ]
     },
     "execution_count": 10,
     "metadata": {},
     "output_type": "execute_result"
    }
   ],
   "source": [
    "genus_dict['Sclerolaena']"
   ]
  },
  {
   "cell_type": "code",
   "execution_count": 11,
   "metadata": {},
   "outputs": [
    {
     "name": "stdout",
     "output_type": "stream",
     "text": [
      "dict_keys(['Salsola', 'Tecticornia', 'Atriplex', 'Chenopodium', 'Rhagodia', 'Dysphania', 'Einadia', 'Bassia', 'Suaeda', 'Enchylaena', 'Maireana', 'Neobassia', 'Sclerolaena', 'Threlkeldia'])\n"
     ]
    }
   ],
   "source": [
    "# make a dictionary of lists for each clade\n",
    "bluebush = ['Maireana','Enchylaena','Neobassia','Sclerolaena','Threlkeldia']\n",
    "saltbush =['Atriplex','Chenopodium','Rhagodia','Einadia','Dysphania']\n",
    "genera = genus_dict.keys()\n",
    "print(genera)"
   ]
  },
  {
   "cell_type": "code",
   "execution_count": 12,
   "metadata": {},
   "outputs": [
    {
     "name": "stdout",
     "output_type": "stream",
     "text": [
      "{'Salsola': 'Salsola', 'Tecticornia': 'Tecticornia', 'Atriplex': 'saltbush', 'Chenopodium': 'saltbush', 'Rhagodia': 'saltbush', 'Dysphania': 'saltbush', 'Einadia': 'saltbush', 'Bassia': 'Bassia', 'Suaeda': 'Suaeda', 'Enchylaena': 'bluebush', 'Maireana': 'bluebush', 'Neobassia': 'bluebush', 'Sclerolaena': 'bluebush', 'Threlkeldia': 'bluebush'}\n"
     ]
    }
   ],
   "source": [
    "clades = {}\n",
    "for gen in genera:\n",
    "    if gen in bluebush:\n",
    "        clades[gen]='bluebush'\n",
    "    elif gen in saltbush:\n",
    "        clades[gen]='saltbush'\n",
    "    else:\n",
    "        clades[gen]=gen\n",
    "print(clades)"
   ]
  },
  {
   "cell_type": "code",
   "execution_count": 13,
   "metadata": {},
   "outputs": [
    {
     "name": "stdout",
     "output_type": "stream",
     "text": [
      "[27, 35, 68, 70, 71, 77, 81, 97, 103, 110, 111, 114, 118, 119, 120, 121, 122, 127, 133, 136, 139]\n",
      "21\n"
     ]
    }
   ],
   "source": [
    "# %load -r 51-66 /Users/hughcross/scripts/synapomizer.py\n",
    "pos_list = []\n",
    "for num in range(0,length):\n",
    "    position = alignment[:,num] # add num to list\n",
    "    #print position\n",
    "    allele_list = number_alleles(position)\n",
    "    no_alleles = len(allele_list)\n",
    "    \n",
    "    if '-' in allele_list:\n",
    "        no_alleles = no_alleles - 1\n",
    "    #print no_alleles\n",
    "\n",
    "    if no_alleles > 1:\n",
    "        #print position\n",
    "        pos_list.append(num)\n",
    "print(pos_list)\n",
    "print(len(pos_list))"
   ]
  },
  {
   "cell_type": "code",
   "execution_count": 14,
   "metadata": {},
   "outputs": [
    {
     "name": "stdout",
     "output_type": "stream",
     "text": [
      "149\n"
     ]
    }
   ],
   "source": [
    "print(length)"
   ]
  },
  {
   "cell_type": "code",
   "execution_count": 15,
   "metadata": {},
   "outputs": [],
   "source": [
    "ambigs = {'AT':'W','TA':'W','CG':'S','GC':'S','CT':'Y','TC':'Y','AG':'R','GA':'R','AC':'M','CA':'M','GT':'K','TG':'K'}"
   ]
  },
  {
   "cell_type": "code",
   "execution_count": 16,
   "metadata": {},
   "outputs": [],
   "source": [
    "# %load -r 68-85 /Users/hughcross/scripts/synapomizer.py\n",
    "## note: fixing ambiguous characters in original below (was 'continue')\n",
    "final_chars = {}\n",
    "\n",
    "for pos in pos_list:\n",
    "    gen_char_dict = {}\n",
    "    for sample in range(0,32): # change this to num of samples\n",
    "        char = alignment[sample,pos]\n",
    "        genus = name_map[sample]\n",
    "        \n",
    "        gen_char_dict.setdefault(genus, []).append(char)\n",
    "        \n",
    "    for key, values in gen_char_dict.items():\n",
    "        #print key\n",
    "        newlist = gen_char_dict[key]\n",
    "        #print newlist\n",
    "        check = set(newlist)\n",
    "        #print check\n",
    "        size = len(check)\n",
    "        if size > 2:\n",
    "            #final_chars.setdefault(key, {})[pos]='N'\n",
    "            newchar = 'N'\n",
    "        elif size == 2:\n",
    "            amb_str = ''\n",
    "            for bp in check:\n",
    "                amb_str = amb_str + bp\n",
    "            if '-' in amb_str:\n",
    "                newchar = amb_str.replace('-','') # may want to count the gaps and adjust later\n",
    "            else:\n",
    "                newchar = ambigs[amb_str]\n",
    "                #final_chars.setdefault(key, {})[pos]=newchar\n",
    "            \n",
    "        else:\n",
    "            newchar = newlist[0]\n",
    "        final_chars.setdefault(key, {})[pos]=newchar\n",
    "        "
   ]
  },
  {
   "cell_type": "code",
   "execution_count": 24,
   "metadata": {},
   "outputs": [],
   "source": [
    "# %load -r 68-85 /Users/hughcross/scripts/synapomizer.py\n",
    "## note: fixing ambiguous characters in original below (was 'continue')\n",
    "final_chars_clade = {}\n",
    "\n",
    "for pos in pos_list:\n",
    "    cld_char_dict = {}\n",
    "    for sample in range(0,32): # change this to num of samples\n",
    "        char = alignment[sample,pos]\n",
    "        genus = name_map[sample]\n",
    "        clade = clades[genus]\n",
    "        \n",
    "        cld_char_dict.setdefault(clade, []).append(char)\n",
    "        \n",
    "    for key, values in cld_char_dict.items():\n",
    "        #print key\n",
    "        newlist = cld_char_dict[key]\n",
    "        #print newlist\n",
    "        check = set(newlist)\n",
    "        #print check\n",
    "        size = len(check)\n",
    "        if size > 2:\n",
    "            #final_chars.setdefault(key, {})[pos]='N'\n",
    "            newchar = 'N'\n",
    "        elif size == 2:\n",
    "            amb_str = ''\n",
    "            for bp in check:\n",
    "                amb_str = amb_str + bp\n",
    "            if '-' in amb_str:\n",
    "                newchar = amb_str.replace('-','') # may want to count the gaps and adjust later\n",
    "            else:\n",
    "                newchar = ambigs[amb_str]\n",
    "                #final_chars.setdefault(key, {})[pos]=newchar\n",
    "            \n",
    "        else:\n",
    "            newchar = newlist[0]\n",
    "        final_chars_clade.setdefault(key, {})[pos]=newchar\n",
    "        "
   ]
  },
  {
   "cell_type": "code",
   "execution_count": 26,
   "metadata": {},
   "outputs": [
    {
     "data": {
      "text/plain": [
       "{27: 'C',\n",
       " 35: 'T',\n",
       " 68: 'T',\n",
       " 70: 'A',\n",
       " 71: 'T',\n",
       " 77: 'T',\n",
       " 81: 'T',\n",
       " 97: 'C',\n",
       " 103: 'T',\n",
       " 110: 'G',\n",
       " 111: 'R',\n",
       " 114: 'A',\n",
       " 118: 'G',\n",
       " 119: 'R',\n",
       " 120: 'A',\n",
       " 121: 'W',\n",
       " 122: 'A',\n",
       " 127: '-',\n",
       " 133: '-',\n",
       " 136: '-',\n",
       " 139: '-'}"
      ]
     },
     "execution_count": 26,
     "metadata": {},
     "output_type": "execute_result"
    }
   ],
   "source": [
    "final_chars_clade['Bassia']"
   ]
  },
  {
   "cell_type": "code",
   "execution_count": 27,
   "metadata": {},
   "outputs": [],
   "source": [
    "# %load -r 68-85 /Users/hughcross/scripts/synapomizer.py\n",
    "## note: fixing ambiguous characters in original below (was 'continue')\n",
    "\n",
    "final_char_indiv = {}\n",
    "for pos in pos_list:\n",
    "    sample_char_dict = {}\n",
    "    for sample in range(0,32): # change this to num of samples\n",
    "        char = alignment[sample,pos]\n",
    "        \n",
    "        samp_indiv = sample_map[sample]\n",
    "        \n",
    "        sample_char_dict.setdefault(samp_indiv, []).append(char)\n",
    "    for key, values in sample_char_dict.items():\n",
    "        #print key\n",
    "        newlist = sample_char_dict[key]\n",
    "        #print newlist\n",
    "        check = set(newlist)\n",
    "        #print check\n",
    "        size = len(check)\n",
    "        if size > 2:\n",
    "            #final_chars.setdefault(key, {})[pos]='N'\n",
    "            newchar = 'N'\n",
    "        elif size == 2:\n",
    "            amb_str = ''\n",
    "            for bp in check:\n",
    "                amb_str = amb_str + bp\n",
    "            if '-' in amb_str:\n",
    "                newchar = amb_str.replace('-','') # may want to count the gaps and adjust later\n",
    "            else:\n",
    "                newchar = ambigs[amb_str]\n",
    "                #final_chars.setdefault(key, {})[pos]=newchar\n",
    "            \n",
    "        else:\n",
    "            newchar = newlist[0]\n",
    "        \n",
    "        final_char_indiv.setdefault(key, {})[pos]=newchar"
   ]
  },
  {
   "cell_type": "code",
   "execution_count": 28,
   "metadata": {},
   "outputs": [
    {
     "data": {
      "text/plain": [
       "{27: 'C',\n",
       " 35: 'C',\n",
       " 68: 'T',\n",
       " 70: 'A',\n",
       " 71: 'T',\n",
       " 77: 'T',\n",
       " 81: 'C',\n",
       " 97: 'C',\n",
       " 103: 'G',\n",
       " 110: 'G',\n",
       " 111: 'C',\n",
       " 114: 'A',\n",
       " 118: 'G',\n",
       " 119: 'A',\n",
       " 120: 'A',\n",
       " 121: 'A',\n",
       " 122: 'G',\n",
       " 127: 'A',\n",
       " 133: 'C',\n",
       " 136: 'G',\n",
       " 139: 'T'}"
      ]
     },
     "execution_count": 28,
     "metadata": {},
     "output_type": "execute_result"
    }
   ],
   "source": [
    "final_char_indiv['Atriplex_deserticola_gi440584215']"
   ]
  },
  {
   "cell_type": "code",
   "execution_count": 29,
   "metadata": {},
   "outputs": [
    {
     "name": "stdout",
     "output_type": "stream",
     "text": [
      "[27, 35, 68, 70, 71, 77, 81, 97, 103, 110, 111, 114, 118, 119, 120, 121, 122, 127, 133, 136, 139]\n",
      "21\n"
     ]
    }
   ],
   "source": [
    "# %load -r 89-95 /Users/hughcross/scripts/synapomizer.py\n",
    "# To filter out the characters that have only one alleles; it is variable but only one synapomorphy\n",
    "## perhaps compare dictionaries in final_chars, if all at one position the same, then delete. \n",
    "### try to make it a function \n",
    "\n",
    "inform_alleles = informative_alleles(final_chars)\n",
    "print(inform_alleles)\n",
    "print(len(inform_alleles))"
   ]
  },
  {
   "cell_type": "code",
   "execution_count": 30,
   "metadata": {},
   "outputs": [
    {
     "name": "stdout",
     "output_type": "stream",
     "text": [
      "{'Salsola': {27: 'C', 35: 'T', 68: 'T', 70: 'C', 71: 'T', 77: 'A', 81: 'C', 97: 'C', 103: 'T', 110: 'G', 111: 'G', 114: 'A', 118: 'G', 119: 'A', 120: 'A', 121: 'G', 122: 'A', 127: '-', 133: '-', 136: '-', 139: '-'}, 'Tecticornia': {27: 'C', 35: 'T', 68: 'T', 70: 'A', 71: 'T', 77: 'A', 81: 'C', 97: 'C', 103: 'T', 110: 'T', 111: 'A', 114: 'A', 118: 'G', 119: 'G', 120: 'A', 121: 'A', 122: '-', 127: '-', 133: '-', 136: '-', 139: '-'}, 'Atriplex': {27: 'C', 35: 'Y', 68: 'T', 70: 'A', 71: 'T', 77: 'T', 81: 'C', 97: 'C', 103: 'G', 110: 'G', 111: 'C', 114: 'A', 118: 'G', 119: 'A', 120: 'A', 121: 'A', 122: 'G', 127: 'A', 133: 'C', 136: 'G', 139: 'T'}, 'Chenopodium': {27: 'C', 35: 'T', 68: 'T', 70: 'M', 71: 'N', 77: 'Y', 81: 'Y', 97: 'C', 103: 'K', 110: 'G', 111: 'C', 114: 'R', 118: 'K', 119: 'A', 120: 'M', 121: 'N', 122: 'N', 127: 'N', 133: 'N', 136: 'N', 139: 'T'}, 'Rhagodia': {27: 'C', 35: 'T', 68: 'T', 70: 'A', 71: 'T', 77: 'T', 81: 'C', 97: 'C', 103: 'G', 110: 'G', 111: 'C', 114: 'A', 118: 'T', 119: 'A', 120: 'A', 121: 'A', 122: 'G', 127: 'A', 133: 'C', 136: 'G', 139: 'T'}, 'Dysphania': {27: 'C', 35: 'T', 68: 'T', 70: 'A', 71: 'W', 77: 'T', 81: 'C', 97: 'C', 103: 'T', 110: 'G', 111: 'C', 114: 'A', 118: 'G', 119: 'A', 120: 'A', 121: 'G', 122: 'G', 127: 'C', 133: 'C', 136: 'G', 139: 'A'}, 'Einadia': {27: 'C', 35: 'T', 68: 'T', 70: 'A', 71: 'T', 77: 'T', 81: 'C', 97: 'C', 103: 'G', 110: 'G', 111: 'C', 114: 'A', 118: 'T', 119: 'A', 120: 'A', 121: 'A', 122: 'G', 127: 'A', 133: 'C', 136: 'G', 139: 'T'}, 'Bassia': {27: 'C', 35: 'T', 68: 'T', 70: 'A', 71: 'T', 77: 'T', 81: 'T', 97: 'C', 103: 'T', 110: 'G', 111: 'R', 114: 'A', 118: 'G', 119: 'R', 120: 'A', 121: 'W', 122: 'A', 127: '-', 133: '-', 136: '-', 139: '-'}, 'Suaeda': {27: 'T', 35: 'T', 68: 'G', 70: 'A', 71: 'T', 77: 'T', 81: 'T', 97: 'T', 103: 'T', 110: 'G', 111: 'C', 114: 'A', 118: 'G', 119: 'G', 120: 'A', 121: 'T', 122: 'A', 127: '-', 133: '-', 136: '-', 139: '-'}, 'Enchylaena': {27: 'C', 35: 'T', 68: 'T', 70: 'A', 71: 'T', 77: 'T', 81: 'C', 97: 'C', 103: 'T', 110: 'G', 111: 'G', 114: 'A', 118: 'G', 119: 'A', 120: 'A', 121: 'T', 122: 'A', 127: '-', 133: '-', 136: '-', 139: '-'}, 'Maireana': {27: 'C', 35: 'T', 68: 'T', 70: 'A', 71: 'T', 77: 'T', 81: 'C', 97: 'C', 103: 'T', 110: 'G', 111: 'G', 114: 'A', 118: 'K', 119: 'A', 120: 'A', 121: 'T', 122: 'A', 127: '-', 133: '-', 136: '-', 139: '-'}, 'Neobassia': {27: 'C', 35: 'T', 68: 'T', 70: 'A', 71: 'T', 77: 'T', 81: 'C', 97: 'C', 103: 'T', 110: 'G', 111: 'G', 114: 'A', 118: 'G', 119: 'A', 120: 'A', 121: 'T', 122: 'A', 127: '-', 133: '-', 136: '-', 139: '-'}, 'Sclerolaena': {27: 'C', 35: 'T', 68: 'T', 70: 'A', 71: 'T', 77: 'T', 81: 'C', 97: 'C', 103: 'T', 110: 'G', 111: 'G', 114: 'A', 118: 'K', 119: 'A', 120: 'A', 121: 'T', 122: 'A', 127: '-', 133: '-', 136: '-', 139: '-'}, 'Threlkeldia': {27: 'C', 35: 'T', 68: 'T', 70: 'A', 71: 'T', 77: 'T', 81: 'C', 97: 'C', 103: 'T', 110: 'G', 111: 'G', 114: 'A', 118: 'T', 119: 'A', 120: 'A', 121: 'T', 122: 'A', 127: '-', 133: '-', 136: '-', 139: '-'}}\n",
      "{0: 'Salsola', 1: 'Tecticornia', 2: 'Atriplex', 3: 'Atriplex', 4: 'Chenopodium', 5: 'Chenopodium', 6: 'Chenopodium', 7: 'Chenopodium', 8: 'Chenopodium', 9: 'Chenopodium', 10: 'Chenopodium', 11: 'Chenopodium', 12: 'Chenopodium', 13: 'Chenopodium', 14: 'Chenopodium', 15: 'Chenopodium', 16: 'Chenopodium', 17: 'Rhagodia', 18: 'Dysphania', 19: 'Dysphania', 20: 'Dysphania', 21: 'Einadia', 22: 'Bassia', 23: 'Bassia', 24: 'Suaeda', 25: 'Enchylaena', 26: 'Maireana', 27: 'Maireana', 28: 'Neobassia', 29: 'Sclerolaena', 30: 'Sclerolaena', 31: 'Threlkeldia'}\n"
     ]
    }
   ],
   "source": [
    "# %load -r 97-109 /Users/hughcross/scripts/synapomizer.py\n",
    "# the informative_alleles function makes a list of informative alleles, then the next loop creates a filtered dictionary of dicts for each genus\n",
    "filtered_chars1 = {}\n",
    "for k,v in final_chars.items():\n",
    "    tax_dict = v  #final_chars[k]\n",
    "    #print tax_dict\n",
    "    for key, value in tax_dict.items():\n",
    "        if key in inform_alleles:\n",
    "            filtered_chars1.setdefault(k, {})[key]=value\n",
    "\n",
    "# now maybe sort the dictionary\n",
    "print(filtered_chars1)\n",
    "print(name_map)\n",
    "#now to deal with gaps?, maybe later"
   ]
  },
  {
   "cell_type": "code",
   "execution_count": 31,
   "metadata": {},
   "outputs": [
    {
     "name": "stdout",
     "output_type": "stream",
     "text": [
      "{'Salsola': {27: 'C', 35: 'T', 68: 'T', 70: 'C', 71: 'T', 77: 'A', 81: 'C', 97: 'C', 103: 'T', 110: 'G', 111: 'G', 114: 'A', 118: 'G', 119: 'A', 120: 'A', 121: 'G', 122: 'A', 127: '-', 133: '-', 136: '-', 139: '-'}, 'Tecticornia': {27: 'C', 35: 'T', 68: 'T', 70: 'A', 71: 'T', 77: 'A', 81: 'C', 97: 'C', 103: 'T', 110: 'T', 111: 'A', 114: 'A', 118: 'G', 119: 'G', 120: 'A', 121: 'A', 122: '-', 127: '-', 133: '-', 136: '-', 139: '-'}, 'saltbush': {27: 'C', 35: 'Y', 68: 'T', 70: 'M', 71: 'N', 77: 'Y', 81: 'Y', 97: 'C', 103: 'K', 110: 'G', 111: 'C', 114: 'R', 118: 'K', 119: 'A', 120: 'M', 121: 'N', 122: 'N', 127: 'N', 133: 'N', 136: 'N', 139: 'N'}, 'Bassia': {27: 'C', 35: 'T', 68: 'T', 70: 'A', 71: 'T', 77: 'T', 81: 'T', 97: 'C', 103: 'T', 110: 'G', 111: 'R', 114: 'A', 118: 'G', 119: 'R', 120: 'A', 121: 'W', 122: 'A', 127: '-', 133: '-', 136: '-', 139: '-'}, 'Suaeda': {27: 'T', 35: 'T', 68: 'G', 70: 'A', 71: 'T', 77: 'T', 81: 'T', 97: 'T', 103: 'T', 110: 'G', 111: 'C', 114: 'A', 118: 'G', 119: 'G', 120: 'A', 121: 'T', 122: 'A', 127: '-', 133: '-', 136: '-', 139: '-'}, 'bluebush': {27: 'C', 35: 'T', 68: 'T', 70: 'A', 71: 'T', 77: 'T', 81: 'C', 97: 'C', 103: 'T', 110: 'G', 111: 'G', 114: 'A', 118: 'K', 119: 'A', 120: 'A', 121: 'T', 122: 'A', 127: '-', 133: '-', 136: '-', 139: '-'}}\n"
     ]
    }
   ],
   "source": [
    "# %load -r 97-109 /Users/hughcross/scripts/synapomizer.py\n",
    "# the informative_alleles function makes a list of informative alleles, then the next loop creates a filtered dictionary of dicts for each genus\n",
    "filtered_chars_cld = {}\n",
    "for k,v in final_chars_clade.items():\n",
    "    tax_dict = v  #final_chars[k]\n",
    "    #print tax_dict\n",
    "    for key, value in tax_dict.items():\n",
    "        if key in inform_alleles:\n",
    "            filtered_chars_cld.setdefault(k, {})[key]=value\n",
    "\n",
    "# now maybe sort the dictionary\n",
    "print(filtered_chars_cld)\n",
    "#print(name_map)\n",
    "#now to deal with gaps?, maybe later"
   ]
  },
  {
   "cell_type": "code",
   "execution_count": 37,
   "metadata": {},
   "outputs": [],
   "source": [
    "# %load -r 97-109 /Users/hughcross/scripts/synapomizer.py\n",
    "# the informative_alleles function makes a list of informative alleles, then the next loop creates a filtered dictionary of dicts for each genus\n",
    "filtered_chars_indiv = {}\n",
    "for k,v in final_char_indiv.items():\n",
    "    tax_dict = v  #final_chars[k]\n",
    "    #print tax_dict\n",
    "    for key, value in tax_dict.items():\n",
    "        if key in inform_alleles:\n",
    "            filtered_chars_indiv.setdefault(k, {})[key]=value\n",
    "\n",
    "# now maybe sort the dictionary\n",
    "#print(filtered_chars_indiv)\n",
    "#print(name_map)\n",
    "#now to deal with gaps?, maybe later"
   ]
  },
  {
   "cell_type": "code",
   "execution_count": 39,
   "metadata": {},
   "outputs": [
    {
     "name": "stdout",
     "output_type": "stream",
     "text": [
      "{27: 'C', 35: 'T', 68: 'T', 70: 'A', 71: 'T', 77: 'T', 81: 'C', 97: 'C', 103: 'T', 110: 'G', 111: 'G', 114: 'A', 118: 'G', 119: 'A', 120: 'A', 121: 'T', 122: 'A', 127: '-', 133: '-', 136: '-', 139: '-'}\n"
     ]
    }
   ],
   "source": [
    "print(filtered_chars_indiv['Sclerolaena_cuneata_AD_b32'])"
   ]
  },
  {
   "cell_type": "code",
   "execution_count": 32,
   "metadata": {},
   "outputs": [
    {
     "data": {
      "text/plain": [
       "14"
      ]
     },
     "execution_count": 32,
     "metadata": {},
     "output_type": "execute_result"
    }
   ],
   "source": [
    "# maybe make genotype dict for each genus (could also make it string)\n",
    "genotypes = {} # dict of lists: {Felis: ['T', 'T',...]}\n",
    "for k,v in filtered_chars1.items():\n",
    "    for i in inform_alleles:\n",
    "        geno = v[i]\n",
    "        genotypes.setdefault(k, []).append(geno)\n",
    "len(genotypes)"
   ]
  },
  {
   "cell_type": "code",
   "execution_count": 35,
   "metadata": {},
   "outputs": [
    {
     "data": {
      "text/plain": [
       "6"
      ]
     },
     "execution_count": 35,
     "metadata": {},
     "output_type": "execute_result"
    }
   ],
   "source": [
    "# maybe make genotype dict for each genus (could also make it string)\n",
    "clade_genotypes = {} # dict of lists: {Felis: ['T', 'T',...]}\n",
    "for k,v in filtered_chars_cld.items():\n",
    "    for i in inform_alleles:\n",
    "        geno = v[i]\n",
    "        clade_genotypes.setdefault(k, []).append(geno)\n",
    "len(clade_genotypes)\n",
    "        "
   ]
  },
  {
   "cell_type": "code",
   "execution_count": 40,
   "metadata": {},
   "outputs": [
    {
     "data": {
      "text/plain": [
       "32"
      ]
     },
     "execution_count": 40,
     "metadata": {},
     "output_type": "execute_result"
    }
   ],
   "source": [
    "# maybe make genotype dict for each genus (could also make it string)\n",
    "genotypes_indiv = {} # dict of lists: {Felis: ['T', 'T',...]}\n",
    "for k,v in filtered_chars_indiv.items():\n",
    "    for i in inform_alleles:\n",
    "        geno = v[i]\n",
    "        genotypes_indiv.setdefault(k, []).append(geno)\n",
    "len(genotypes_indiv)\n",
    "        "
   ]
  },
  {
   "cell_type": "markdown",
   "metadata": {},
   "source": [
    "### Need to add CIGAR functions to read score from usearch output, and assign bp of each seq"
   ]
  },
  {
   "cell_type": "code",
   "execution_count": 43,
   "metadata": {},
   "outputs": [
    {
     "data": {
      "text/plain": [
       "['C',\n",
       " 'Y',\n",
       " 'T',\n",
       " 'M',\n",
       " 'N',\n",
       " 'Y',\n",
       " 'Y',\n",
       " 'C',\n",
       " 'K',\n",
       " 'G',\n",
       " 'C',\n",
       " 'R',\n",
       " 'K',\n",
       " 'A',\n",
       " 'M',\n",
       " 'N',\n",
       " 'N',\n",
       " 'N',\n",
       " 'N',\n",
       " 'N',\n",
       " 'N']"
      ]
     },
     "execution_count": 43,
     "metadata": {},
     "output_type": "execute_result"
    }
   ],
   "source": [
    "clade_genotypes['saltbush']"
   ]
  },
  {
   "cell_type": "markdown",
   "metadata": {},
   "source": [
    "## find differences between genotypes"
   ]
  },
  {
   "cell_type": "code",
   "execution_count": null,
   "metadata": {
    "collapsed": true
   },
   "outputs": [],
   "source": [
    "# start with clades\n",
    "diffs = {}\n",
    "for base in range(0,len(inform_alleles)):\n",
    "    base_pos = inform_alleles[base]\n",
    "    "
   ]
  },
  {
   "cell_type": "code",
   "execution_count": 42,
   "metadata": {},
   "outputs": [
    {
     "data": {
      "text/plain": [
       "[27,\n",
       " 35,\n",
       " 68,\n",
       " 70,\n",
       " 71,\n",
       " 77,\n",
       " 81,\n",
       " 97,\n",
       " 103,\n",
       " 110,\n",
       " 111,\n",
       " 114,\n",
       " 118,\n",
       " 119,\n",
       " 120,\n",
       " 121,\n",
       " 122,\n",
       " 127,\n",
       " 133,\n",
       " 136,\n",
       " 139]"
      ]
     },
     "execution_count": 42,
     "metadata": {},
     "output_type": "execute_result"
    }
   ],
   "source": [
    "inform_alleles"
   ]
  },
  {
   "cell_type": "code",
   "execution_count": 46,
   "metadata": {},
   "outputs": [
    {
     "name": "stdout",
     "output_type": "stream",
     "text": [
      "Salsola \t ['C', 'T', 'T', 'C', 'T', 'A', 'C', 'C', 'T', 'G', 'G', 'A', 'G', 'A', 'A', 'G', 'A', '-', '-', '-', '-']\n",
      "Tecticornia \t ['C', 'T', 'T', 'A', 'T', 'A', 'C', 'C', 'T', 'T', 'A', 'A', 'G', 'G', 'A', 'A', '-', '-', '-', '-', '-']\n",
      "saltbush \t ['C', 'Y', 'T', 'M', 'N', 'Y', 'Y', 'C', 'K', 'G', 'C', 'R', 'K', 'A', 'M', 'N', 'N', 'N', 'N', 'N', 'N']\n",
      "Bassia \t ['C', 'T', 'T', 'A', 'T', 'T', 'T', 'C', 'T', 'G', 'R', 'A', 'G', 'R', 'A', 'W', 'A', '-', '-', '-', '-']\n",
      "Suaeda \t ['T', 'T', 'G', 'A', 'T', 'T', 'T', 'T', 'T', 'G', 'C', 'A', 'G', 'G', 'A', 'T', 'A', '-', '-', '-', '-']\n",
      "bluebush \t ['C', 'T', 'T', 'A', 'T', 'T', 'C', 'C', 'T', 'G', 'G', 'A', 'K', 'A', 'A', 'T', 'A', '-', '-', '-', '-']\n"
     ]
    }
   ],
   "source": [
    "for key,value in clade_genotypes.items():\n",
    "    print(key,'\\t', value)"
   ]
  },
  {
   "cell_type": "code",
   "execution_count": 48,
   "metadata": {},
   "outputs": [
    {
     "name": "stdout",
     "output_type": "stream",
     "text": [
      "saltbush\t ['C', 'Y', 'T', 'M', 'N', 'Y', 'Y', 'C', 'K', 'G', 'C', 'R', 'K', 'A', 'M', 'N', 'N', 'N', 'N', 'N', 'N']\n",
      "bluebush\t ['C', 'T', 'T', 'A', 'T', 'T', 'C', 'C', 'T', 'G', 'G', 'A', 'K', 'A', 'A', 'T', 'A', '-', '-', '-', '-']\n"
     ]
    }
   ],
   "source": [
    "print('saltbush\\t',clade_genotypes['saltbush'])\n",
    "print('bluebush\\t',clade_genotypes['bluebush'])"
   ]
  },
  {
   "cell_type": "code",
   "execution_count": null,
   "metadata": {},
   "outputs": [],
   "source": []
  }
 ],
 "metadata": {
  "kernelspec": {
   "display_name": "Python 3",
   "language": "python",
   "name": "python3"
  },
  "language_info": {
   "codemirror_mode": {
    "name": "ipython",
    "version": 3
   },
   "file_extension": ".py",
   "mimetype": "text/x-python",
   "name": "python",
   "nbconvert_exporter": "python",
   "pygments_lexer": "ipython3",
   "version": "3.6.2"
  }
 },
 "nbformat": 4,
 "nbformat_minor": 2
}
