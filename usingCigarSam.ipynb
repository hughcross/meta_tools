{
 "cells": [
  {
   "cell_type": "code",
   "execution_count": 1,
   "metadata": {},
   "outputs": [],
   "source": [
    "import pysam"
   ]
  },
  {
   "cell_type": "code",
   "execution_count": 2,
   "metadata": {},
   "outputs": [],
   "source": [
    "%load_ext autoreload\n",
    "%autoreload 2"
   ]
  },
  {
   "cell_type": "code",
   "execution_count": 4,
   "metadata": {},
   "outputs": [],
   "source": [
    "from allele_functions.cigar_funcs import *"
   ]
  },
  {
   "cell_type": "code",
   "execution_count": 27,
   "metadata": {},
   "outputs": [],
   "source": [
    "bamfileE = pysam.AlignmentFile(\"/Users/hughcross/Analysis/Paua/sort_allBucks.bam\", \"rb\")"
   ]
  },
  {
   "cell_type": "code",
   "execution_count": 28,
   "metadata": {},
   "outputs": [],
   "source": [
    "hap1 = bamfileE.fetch(\"CCB11_Haplotype1\")"
   ]
  },
  {
   "cell_type": "code",
   "execution_count": 25,
   "metadata": {},
   "outputs": [],
   "source": [
    "positions = (10,25,139,160,220,304,343)"
   ]
  },
  {
   "cell_type": "code",
   "execution_count": 11,
   "metadata": {},
   "outputs": [
    {
     "name": "stdout",
     "output_type": "stream",
     "text": [
      "[9, 24, 138, 159, 219, 303, 342]\n"
     ]
    }
   ],
   "source": [
    "positions0 = []\n",
    "for x in positions:\n",
    "    p = x - 1\n",
    "    positions0.append(p)\n",
    "print(positions0)"
   ]
  },
  {
   "cell_type": "code",
   "execution_count": 16,
   "metadata": {},
   "outputs": [],
   "source": [
    "pos0 = (9, 24, 138, 159, 219, 303, 342)"
   ]
  },
  {
   "cell_type": "code",
   "execution_count": 12,
   "metadata": {},
   "outputs": [
    {
     "name": "stdout",
     "output_type": "stream",
     "text": [
      "157698\n"
     ]
    }
   ],
   "source": [
    "# simple trial\n",
    "cigDict = {}\n",
    "for c in hap1:\n",
    "    qy = c.query_name\n",
    "    cig = c.cigarstring\n",
    "    cigDict[qy]=cig\n",
    "print(len(cigDict))"
   ]
  },
  {
   "cell_type": "code",
   "execution_count": 13,
   "metadata": {},
   "outputs": [
    {
     "data": {
      "text/plain": [
       "'OTU_1'"
      ]
     },
     "execution_count": 13,
     "metadata": {},
     "output_type": "execute_result"
    }
   ],
   "source": [
    "cigList = list(cigDict.keys())\n",
    "cigList[0]"
   ]
  },
  {
   "cell_type": "code",
   "execution_count": 14,
   "metadata": {},
   "outputs": [
    {
     "data": {
      "text/plain": [
       "'351M'"
      ]
     },
     "execution_count": 14,
     "metadata": {},
     "output_type": "execute_result"
    }
   ],
   "source": [
    "cigDict['OTU_1']"
   ]
  },
  {
   "cell_type": "code",
   "execution_count": 29,
   "metadata": {},
   "outputs": [
    {
     "name": "stderr",
     "output_type": "stream",
     "text": [
      "/Users/hughcross/anaconda/envs/py3/lib/python3.6/re.py:212: FutureWarning: split() requires a non-empty pattern match.\n",
      "  return _compile(pattern, flags).split(string, maxsplit)\n"
     ]
    },
    {
     "name": "stdout",
     "output_type": "stream",
     "text": [
      "157698\n"
     ]
    }
   ],
   "source": [
    "# more complicated\n",
    "cigD = {}\n",
    "for c in hap1:\n",
    "    qy = c.query_name\n",
    "    cig = c.cigarstring\n",
    "    cigRef = cigar_ref(cig)\n",
    "    \n",
    "    seq = c.query_sequence\n",
    "    hapStr = ''\n",
    "    for p in positions:\n",
    "        posi = posi_finder(cigRef, p)\n",
    "        if len(seq) > posi:\n",
    "            base = seq[posi]\n",
    "            hapStr = hapStr + base\n",
    "    cigD[qy]=hapStr\n",
    "print(len(cigD))"
   ]
  },
  {
   "cell_type": "code",
   "execution_count": 23,
   "metadata": {},
   "outputs": [],
   "source": [
    "# query_alignment_sequence\n",
    "# query_alignment_qualities\n",
    "# query_sequence\n",
    "# query_qualities"
   ]
  },
  {
   "cell_type": "code",
   "execution_count": 31,
   "metadata": {},
   "outputs": [
    {
     "data": {
      "text/plain": [
       "'CAAAAGT'"
      ]
     },
     "execution_count": 31,
     "metadata": {},
     "output_type": "execute_result"
    }
   ],
   "source": [
    "cigD['OTU_4']"
   ]
  },
  {
   "cell_type": "code",
   "execution_count": 32,
   "metadata": {},
   "outputs": [],
   "source": [
    "haplotypes = {'CAGGAGT':1,'TAGGGGT':2,'CAGGAAT':3,'CAAAAGT':4,'TGGGAGT':5,'CAAGAGT':6,'TAGGGGC':7}"
   ]
  },
  {
   "cell_type": "code",
   "execution_count": 35,
   "metadata": {},
   "outputs": [
    {
     "name": "stdout",
     "output_type": "stream",
     "text": [
      "13531\n"
     ]
    }
   ],
   "source": [
    "hapLists = {}\n",
    "notFound = []\n",
    "for k,v in cigD.items():\n",
    "    if v in haplotypes:\n",
    "        htype = haplotypes[v]\n",
    "        hapLists.setdefault(htype, []).append(k)\n",
    "    else:\n",
    "        notFound.append(k)\n",
    "        \n",
    "print(len(notFound))"
   ]
  },
  {
   "cell_type": "code",
   "execution_count": 36,
   "metadata": {},
   "outputs": [
    {
     "data": {
      "text/plain": [
       "47195"
      ]
     },
     "execution_count": 36,
     "metadata": {},
     "output_type": "execute_result"
    }
   ],
   "source": [
    "len(hapLists[1])"
   ]
  },
  {
   "cell_type": "code",
   "execution_count": 37,
   "metadata": {},
   "outputs": [
    {
     "name": "stdout",
     "output_type": "stream",
     "text": [
      "haplotype 3 54884\n",
      "haplotype 1 47195\n",
      "haplotype 2 28374\n",
      "haplotype 4 13277\n",
      "haplotype 7 233\n",
      "haplotype 6 202\n",
      "haplotype 5 2\n"
     ]
    }
   ],
   "source": [
    "for k,v in hapLists.items():\n",
    "    print('haplotype', k, len(v))"
   ]
  },
  {
   "cell_type": "code",
   "execution_count": 38,
   "metadata": {},
   "outputs": [
    {
     "data": {
      "text/plain": [
       "['OTU_40918', 'OTU_144307']"
      ]
     },
     "execution_count": 38,
     "metadata": {},
     "output_type": "execute_result"
    }
   ],
   "source": [
    "hapLists[5]"
   ]
  },
  {
   "cell_type": "code",
   "execution_count": null,
   "metadata": {},
   "outputs": [],
   "source": []
  },
  {
   "cell_type": "code",
   "execution_count": 12,
   "metadata": {},
   "outputs": [
    {
     "name": "stdout",
     "output_type": "stream",
     "text": [
      "157698\n"
     ]
    }
   ],
   "source": [
    "# simple trial\n",
    "cigDict = {}\n",
    "for c in hap1:\n",
    "    qy = c.query_name\n",
    "    cig = c.cigarstring\n",
    "    cigDict[qy]=cig\n",
    "print(len(cigDict))"
   ]
  }
 ],
 "metadata": {
  "kernelspec": {
   "display_name": "Python 3",
   "language": "python",
   "name": "python3"
  },
  "language_info": {
   "codemirror_mode": {
    "name": "ipython",
    "version": 3
   },
   "file_extension": ".py",
   "mimetype": "text/x-python",
   "name": "python",
   "nbconvert_exporter": "python",
   "pygments_lexer": "ipython3",
   "version": "3.6.7"
  }
 },
 "nbformat": 4,
 "nbformat_minor": 4
}
