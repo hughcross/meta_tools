{
 "cells": [
  {
   "cell_type": "code",
   "execution_count": null,
   "metadata": {},
   "outputs": [],
   "source": []
  },
  {
   "cell_type": "code",
   "execution_count": 1,
   "metadata": {},
   "outputs": [],
   "source": [
    "import numpy as np\n",
    "import pandas as pd\n",
    "import sqlite3\n",
    "import sys"
   ]
  },
  {
   "cell_type": "code",
   "execution_count": 11,
   "metadata": {},
   "outputs": [],
   "source": [
    "sys.path.append('/Users/hughcross/Analysis/repos/seq_tools/seq_functions')\n",
    "from seq_funcs import extract_seqs"
   ]
  },
  {
   "cell_type": "markdown",
   "metadata": {},
   "source": [
    "### Import sql table"
   ]
  },
  {
   "cell_type": "code",
   "execution_count": 2,
   "metadata": {},
   "outputs": [],
   "source": [
    "sqlite_file = '/Users/hughcross/Analysis/CAMEL/camel2016/Camel_Plant_Reference_db.sqlite'"
   ]
  },
  {
   "cell_type": "code",
   "execution_count": 3,
   "metadata": {},
   "outputs": [],
   "source": [
    "conn = sqlite3.connect(sqlite_file)\n",
    "c = conn.cursor()"
   ]
  },
  {
   "cell_type": "code",
   "execution_count": 4,
   "metadata": {},
   "outputs": [
    {
     "data": {
      "text/html": [
       "<div>\n",
       "<style scoped>\n",
       "    .dataframe tbody tr th:only-of-type {\n",
       "        vertical-align: middle;\n",
       "    }\n",
       "\n",
       "    .dataframe tbody tr th {\n",
       "        vertical-align: top;\n",
       "    }\n",
       "\n",
       "    .dataframe thead th {\n",
       "        text-align: right;\n",
       "    }\n",
       "</style>\n",
       "<table border=\"1\" class=\"dataframe\">\n",
       "  <thead>\n",
       "    <tr style=\"text-align: right;\">\n",
       "      <th></th>\n",
       "      <th>Taxon</th>\n",
       "      <th>TaxonCode</th>\n",
       "      <th>Tax_ID</th>\n",
       "      <th>regnum</th>\n",
       "      <th>division</th>\n",
       "      <th>class</th>\n",
       "      <th>subclass</th>\n",
       "      <th>superorder</th>\n",
       "      <th>order</th>\n",
       "      <th>family</th>\n",
       "      <th>subfamily</th>\n",
       "      <th>tribe</th>\n",
       "      <th>genus</th>\n",
       "      <th>species</th>\n",
       "      <th>subspecies</th>\n",
       "      <th>varietas</th>\n",
       "    </tr>\n",
       "  </thead>\n",
       "  <tbody>\n",
       "    <tr>\n",
       "      <th>0</th>\n",
       "      <td>Anthocercis intricata</td>\n",
       "      <td>Anthocercis_intricata_195720</td>\n",
       "      <td>195720</td>\n",
       "      <td>Plantae</td>\n",
       "      <td>Charophyta</td>\n",
       "      <td>Equisetopsida</td>\n",
       "      <td>Magnoliidae</td>\n",
       "      <td>Asteranae</td>\n",
       "      <td>Solanales</td>\n",
       "      <td>Solanaceae</td>\n",
       "      <td>Nicotianoideae</td>\n",
       "      <td>Anthocercideae</td>\n",
       "      <td>Anthocercis</td>\n",
       "      <td>intricata</td>\n",
       "      <td>None</td>\n",
       "      <td>None</td>\n",
       "    </tr>\n",
       "    <tr>\n",
       "      <th>1</th>\n",
       "      <td>Myoporum platycarpum</td>\n",
       "      <td>Myoporum_platycarpum_796003</td>\n",
       "      <td>796003</td>\n",
       "      <td>Plantae</td>\n",
       "      <td>Charophyta</td>\n",
       "      <td>Equisetopsida</td>\n",
       "      <td>Magnoliidae</td>\n",
       "      <td>Asteranae</td>\n",
       "      <td>Lamiales</td>\n",
       "      <td>Scrophulariaceae</td>\n",
       "      <td>None</td>\n",
       "      <td>Myoporeae</td>\n",
       "      <td>Myoporum</td>\n",
       "      <td>platycarpum</td>\n",
       "      <td>None</td>\n",
       "      <td>None</td>\n",
       "    </tr>\n",
       "    <tr>\n",
       "      <th>2</th>\n",
       "      <td>Saphesia flaccida</td>\n",
       "      <td>Saphesia_flaccida_216014</td>\n",
       "      <td>216014</td>\n",
       "      <td>Plantae</td>\n",
       "      <td>Charophyta</td>\n",
       "      <td>Equisetopsida</td>\n",
       "      <td>Magnoliidae</td>\n",
       "      <td>Caryophyllanae</td>\n",
       "      <td>Caryophyllales</td>\n",
       "      <td>Aizoaceae</td>\n",
       "      <td>None</td>\n",
       "      <td>None</td>\n",
       "      <td>Saphesia</td>\n",
       "      <td>flaccida</td>\n",
       "      <td>None</td>\n",
       "      <td>None</td>\n",
       "    </tr>\n",
       "    <tr>\n",
       "      <th>3</th>\n",
       "      <td>Spyridium ulicinum</td>\n",
       "      <td>Spyridium_ulicinum_323969</td>\n",
       "      <td>323969</td>\n",
       "      <td>Plantae</td>\n",
       "      <td>Charophyta</td>\n",
       "      <td>Equisetopsida</td>\n",
       "      <td>Magnoliidae</td>\n",
       "      <td>Rosanae</td>\n",
       "      <td>Rosales</td>\n",
       "      <td>Rhamnaceae</td>\n",
       "      <td>None</td>\n",
       "      <td>Pomaderreae</td>\n",
       "      <td>Spyridium</td>\n",
       "      <td>ulicinum</td>\n",
       "      <td>None</td>\n",
       "      <td>None</td>\n",
       "    </tr>\n",
       "    <tr>\n",
       "      <th>4</th>\n",
       "      <td>Austrostipa wakoolica</td>\n",
       "      <td>Austrostipa_wakoolica_1030042</td>\n",
       "      <td>1030042</td>\n",
       "      <td>Plantae</td>\n",
       "      <td>Charophyta</td>\n",
       "      <td>Equisetopsida</td>\n",
       "      <td>Magnoliidae</td>\n",
       "      <td>Lilianae</td>\n",
       "      <td>Poales</td>\n",
       "      <td>Poaceae</td>\n",
       "      <td>Pooideae</td>\n",
       "      <td>Stipeae</td>\n",
       "      <td>Austrostipa</td>\n",
       "      <td>wakoolica</td>\n",
       "      <td>None</td>\n",
       "      <td>None</td>\n",
       "    </tr>\n",
       "  </tbody>\n",
       "</table>\n",
       "</div>"
      ],
      "text/plain": [
       "                   Taxon                      TaxonCode   Tax_ID   regnum  \\\n",
       "0  Anthocercis intricata   Anthocercis_intricata_195720   195720  Plantae   \n",
       "1   Myoporum platycarpum    Myoporum_platycarpum_796003   796003  Plantae   \n",
       "2      Saphesia flaccida       Saphesia_flaccida_216014   216014  Plantae   \n",
       "3     Spyridium ulicinum      Spyridium_ulicinum_323969   323969  Plantae   \n",
       "4  Austrostipa wakoolica  Austrostipa_wakoolica_1030042  1030042  Plantae   \n",
       "\n",
       "     division          class     subclass      superorder           order  \\\n",
       "0  Charophyta  Equisetopsida  Magnoliidae       Asteranae       Solanales   \n",
       "1  Charophyta  Equisetopsida  Magnoliidae       Asteranae        Lamiales   \n",
       "2  Charophyta  Equisetopsida  Magnoliidae  Caryophyllanae  Caryophyllales   \n",
       "3  Charophyta  Equisetopsida  Magnoliidae         Rosanae         Rosales   \n",
       "4  Charophyta  Equisetopsida  Magnoliidae        Lilianae          Poales   \n",
       "\n",
       "             family       subfamily           tribe        genus      species  \\\n",
       "0        Solanaceae  Nicotianoideae  Anthocercideae  Anthocercis    intricata   \n",
       "1  Scrophulariaceae            None       Myoporeae     Myoporum  platycarpum   \n",
       "2         Aizoaceae            None            None     Saphesia     flaccida   \n",
       "3        Rhamnaceae            None     Pomaderreae    Spyridium     ulicinum   \n",
       "4           Poaceae        Pooideae         Stipeae  Austrostipa    wakoolica   \n",
       "\n",
       "  subspecies varietas  \n",
       "0       None     None  \n",
       "1       None     None  \n",
       "2       None     None  \n",
       "3       None     None  \n",
       "4       None     None  "
      ]
     },
     "execution_count": 4,
     "metadata": {},
     "output_type": "execute_result"
    }
   ],
   "source": [
    "df = pd.read_sql('select * from plant_APNI_taxonomy', conn)\n",
    "df.head()"
   ]
  },
  {
   "cell_type": "markdown",
   "metadata": {},
   "source": [
    "## Get chenopod genera"
   ]
  },
  {
   "cell_type": "code",
   "execution_count": 5,
   "metadata": {},
   "outputs": [],
   "source": [
    "# make new df with just chenopods\n",
    "## output all rows of a specific column value\n",
    "df_cheno = df.loc[df.family == 'Chenopodiaceae']"
   ]
  },
  {
   "cell_type": "code",
   "execution_count": 6,
   "metadata": {},
   "outputs": [
    {
     "data": {
      "text/html": [
       "<div>\n",
       "<style scoped>\n",
       "    .dataframe tbody tr th:only-of-type {\n",
       "        vertical-align: middle;\n",
       "    }\n",
       "\n",
       "    .dataframe tbody tr th {\n",
       "        vertical-align: top;\n",
       "    }\n",
       "\n",
       "    .dataframe thead th {\n",
       "        text-align: right;\n",
       "    }\n",
       "</style>\n",
       "<table border=\"1\" class=\"dataframe\">\n",
       "  <thead>\n",
       "    <tr style=\"text-align: right;\">\n",
       "      <th></th>\n",
       "      <th>Taxon</th>\n",
       "      <th>TaxonCode</th>\n",
       "      <th>Tax_ID</th>\n",
       "      <th>regnum</th>\n",
       "      <th>division</th>\n",
       "      <th>class</th>\n",
       "      <th>subclass</th>\n",
       "      <th>superorder</th>\n",
       "      <th>order</th>\n",
       "      <th>family</th>\n",
       "      <th>subfamily</th>\n",
       "      <th>tribe</th>\n",
       "      <th>genus</th>\n",
       "      <th>species</th>\n",
       "      <th>subspecies</th>\n",
       "      <th>varietas</th>\n",
       "    </tr>\n",
       "  </thead>\n",
       "  <tbody>\n",
       "    <tr>\n",
       "      <th>51</th>\n",
       "      <td>Suaeda heteroptera</td>\n",
       "      <td>Suaeda_heteroptera_224170</td>\n",
       "      <td>224170</td>\n",
       "      <td>Plantae</td>\n",
       "      <td>Charophyta</td>\n",
       "      <td>Equisetopsida</td>\n",
       "      <td>Magnoliidae</td>\n",
       "      <td>Caryophyllanae</td>\n",
       "      <td>Caryophyllales</td>\n",
       "      <td>Chenopodiaceae</td>\n",
       "      <td>Suaedoideae</td>\n",
       "      <td>None</td>\n",
       "      <td>Suaeda</td>\n",
       "      <td>heteroptera</td>\n",
       "      <td>None</td>\n",
       "      <td>None</td>\n",
       "    </tr>\n",
       "    <tr>\n",
       "      <th>68</th>\n",
       "      <td>Suaeda aralocaspica</td>\n",
       "      <td>Suaeda_aralocaspica_224144</td>\n",
       "      <td>224144</td>\n",
       "      <td>Plantae</td>\n",
       "      <td>Charophyta</td>\n",
       "      <td>Equisetopsida</td>\n",
       "      <td>Magnoliidae</td>\n",
       "      <td>Caryophyllanae</td>\n",
       "      <td>Caryophyllales</td>\n",
       "      <td>Chenopodiaceae</td>\n",
       "      <td>Suaedoideae</td>\n",
       "      <td>None</td>\n",
       "      <td>Suaeda</td>\n",
       "      <td>aralocaspica</td>\n",
       "      <td>None</td>\n",
       "      <td>None</td>\n",
       "    </tr>\n",
       "    <tr>\n",
       "      <th>77</th>\n",
       "      <td>Atriplex rosea</td>\n",
       "      <td>Atriplex_rosea_3552</td>\n",
       "      <td>3552</td>\n",
       "      <td>Plantae</td>\n",
       "      <td>Charophyta</td>\n",
       "      <td>Equisetopsida</td>\n",
       "      <td>Magnoliidae</td>\n",
       "      <td>Caryophyllanae</td>\n",
       "      <td>Caryophyllales</td>\n",
       "      <td>Chenopodiaceae</td>\n",
       "      <td>Chenopodioideae</td>\n",
       "      <td>Atripliceae</td>\n",
       "      <td>Atriplex</td>\n",
       "      <td>rosea</td>\n",
       "      <td>None</td>\n",
       "      <td>None</td>\n",
       "    </tr>\n",
       "    <tr>\n",
       "      <th>102</th>\n",
       "      <td>Suaeda linifolia</td>\n",
       "      <td>Suaeda_linifolia_224172</td>\n",
       "      <td>224172</td>\n",
       "      <td>Plantae</td>\n",
       "      <td>Charophyta</td>\n",
       "      <td>Equisetopsida</td>\n",
       "      <td>Magnoliidae</td>\n",
       "      <td>Caryophyllanae</td>\n",
       "      <td>Caryophyllales</td>\n",
       "      <td>Chenopodiaceae</td>\n",
       "      <td>Suaedoideae</td>\n",
       "      <td>None</td>\n",
       "      <td>Suaeda</td>\n",
       "      <td>linifolia</td>\n",
       "      <td>None</td>\n",
       "      <td>None</td>\n",
       "    </tr>\n",
       "    <tr>\n",
       "      <th>125</th>\n",
       "      <td>Maireana campanulata</td>\n",
       "      <td>Maireana_campanulata_381269</td>\n",
       "      <td>381269</td>\n",
       "      <td>Plantae</td>\n",
       "      <td>Charophyta</td>\n",
       "      <td>Equisetopsida</td>\n",
       "      <td>Magnoliidae</td>\n",
       "      <td>Caryophyllanae</td>\n",
       "      <td>Caryophyllales</td>\n",
       "      <td>Chenopodiaceae</td>\n",
       "      <td>Camphorosmoideae</td>\n",
       "      <td>Camphorosmeae</td>\n",
       "      <td>Maireana</td>\n",
       "      <td>campanulata</td>\n",
       "      <td>None</td>\n",
       "      <td>None</td>\n",
       "    </tr>\n",
       "  </tbody>\n",
       "</table>\n",
       "</div>"
      ],
      "text/plain": [
       "                    Taxon                    TaxonCode  Tax_ID   regnum  \\\n",
       "51     Suaeda heteroptera    Suaeda_heteroptera_224170  224170  Plantae   \n",
       "68    Suaeda aralocaspica   Suaeda_aralocaspica_224144  224144  Plantae   \n",
       "77         Atriplex rosea          Atriplex_rosea_3552    3552  Plantae   \n",
       "102      Suaeda linifolia      Suaeda_linifolia_224172  224172  Plantae   \n",
       "125  Maireana campanulata  Maireana_campanulata_381269  381269  Plantae   \n",
       "\n",
       "       division          class     subclass      superorder           order  \\\n",
       "51   Charophyta  Equisetopsida  Magnoliidae  Caryophyllanae  Caryophyllales   \n",
       "68   Charophyta  Equisetopsida  Magnoliidae  Caryophyllanae  Caryophyllales   \n",
       "77   Charophyta  Equisetopsida  Magnoliidae  Caryophyllanae  Caryophyllales   \n",
       "102  Charophyta  Equisetopsida  Magnoliidae  Caryophyllanae  Caryophyllales   \n",
       "125  Charophyta  Equisetopsida  Magnoliidae  Caryophyllanae  Caryophyllales   \n",
       "\n",
       "             family         subfamily          tribe     genus       species  \\\n",
       "51   Chenopodiaceae       Suaedoideae           None    Suaeda   heteroptera   \n",
       "68   Chenopodiaceae       Suaedoideae           None    Suaeda  aralocaspica   \n",
       "77   Chenopodiaceae   Chenopodioideae    Atripliceae  Atriplex         rosea   \n",
       "102  Chenopodiaceae       Suaedoideae           None    Suaeda     linifolia   \n",
       "125  Chenopodiaceae  Camphorosmoideae  Camphorosmeae  Maireana   campanulata   \n",
       "\n",
       "    subspecies varietas  \n",
       "51        None     None  \n",
       "68        None     None  \n",
       "77        None     None  \n",
       "102       None     None  \n",
       "125       None     None  "
      ]
     },
     "execution_count": 6,
     "metadata": {},
     "output_type": "execute_result"
    }
   ],
   "source": [
    "df_cheno.head()"
   ]
  },
  {
   "cell_type": "code",
   "execution_count": 7,
   "metadata": {},
   "outputs": [
    {
     "name": "stdout",
     "output_type": "stream",
     "text": [
      "509\n",
      "50\n"
     ]
    }
   ],
   "source": [
    "# list of all Fabaceae genera from df\n",
    "chen_genera = df_cheno['genus'].tolist()\n",
    "cheno_genset = set(chen_genera)\n",
    "print(len(chen_genera))\n",
    "print(len(cheno_genset))"
   ]
  },
  {
   "cell_type": "markdown",
   "metadata": {},
   "source": [
    "## Parse uc cluster file and pull out only chenopod hits"
   ]
  },
  {
   "cell_type": "code",
   "execution_count": 8,
   "metadata": {},
   "outputs": [],
   "source": [
    "uc_file = open('/Users/hughcross/Analysis/CAMEL/cam2018/its_q2_trial1/clustout1.uc')"
   ]
  },
  {
   "cell_type": "code",
   "execution_count": 9,
   "metadata": {},
   "outputs": [
    {
     "name": "stdout",
     "output_type": "stream",
     "text": [
      "7085\n"
     ]
    }
   ],
   "source": [
    "hits = []\n",
    "for line in uc_file:\n",
    "    if line.startswith('H'):\n",
    "        parts = line.split('\\t')\n",
    "        query = parts[8]\n",
    "        ref = parts[9]\n",
    "        genus = ref.split('_')[0]\n",
    "        if genus in cheno_genset:\n",
    "            hits.append(query)\n",
    "uc_file.close()\n",
    "print(len(hits))"
   ]
  },
  {
   "cell_type": "code",
   "execution_count": 12,
   "metadata": {},
   "outputs": [],
   "source": [
    "hitset = set(hits)"
   ]
  },
  {
   "cell_type": "code",
   "execution_count": 13,
   "metadata": {},
   "outputs": [],
   "source": [
    "# function to make new sequence file\n",
    "extract_seqs(hitset, '/Users/hughcross/Analysis/CAMEL/cam2018/its_q2_trial1/cam_all_its_qii.fasta', '/Users/hughcross/Analysis/CAMEL/cam2018/its_q2_trial1/cheno_its.fasta')"
   ]
  },
  {
   "cell_type": "markdown",
   "metadata": {},
   "source": [
    "## Repeat with trnL sequences"
   ]
  },
  {
   "cell_type": "markdown",
   "metadata": {},
   "source": [
    "```\n",
    "vsearch --usearch_global cam_all_trnl_qii.fasta \\\n",
    "  -db /Users/hughcross/Analysis/CAMEL/cam2018/refs_trnl/trimd_trnl_all_ref_seqs_5jan18.fasta \\\n",
    "  -id 0.95 --uc clustout_trnL.uc\n",
    " ```"
   ]
  },
  {
   "cell_type": "code",
   "execution_count": 14,
   "metadata": {},
   "outputs": [],
   "source": [
    "uc_trnl = open('/Users/hughcross/Analysis/CAMEL/cam2018/char_based_trial/clustout_trnL.uc')"
   ]
  },
  {
   "cell_type": "code",
   "execution_count": 15,
   "metadata": {},
   "outputs": [
    {
     "name": "stdout",
     "output_type": "stream",
     "text": [
      "3765\n"
     ]
    }
   ],
   "source": [
    "hits_tl = []\n",
    "for line in uc_trnl:\n",
    "    if line.startswith('H'):\n",
    "        parts = line.split('\\t')\n",
    "        query = parts[8]\n",
    "        ref = parts[9]\n",
    "        genus = ref.split('_')[0]\n",
    "        if genus in cheno_genset:\n",
    "            hits_tl.append(query)\n",
    "uc_trnl.close()\n",
    "print(len(hits_tl))"
   ]
  },
  {
   "cell_type": "code",
   "execution_count": 16,
   "metadata": {},
   "outputs": [],
   "source": [
    "tlset = set(hits_tl)\n",
    "extract_seqs(hits_tl, '/Users/hughcross/Analysis/CAMEL/cam2018/char_based_trial/cam_all_trnl_qii.fasta', '/Users/hughcross/Analysis/CAMEL/cam2018/char_based_trial/cam_trnl_cheno.fasta')"
   ]
  },
  {
   "cell_type": "markdown",
   "metadata": {},
   "source": [
    "### Map to reference with BWA"
   ]
  },
  {
   "cell_type": "markdown",
   "metadata": {},
   "source": [
    "`bwa mem -E [2,2] Atriplex_vesicaria_AD_b74_ref_seq.fasta cam_trnl_cheno.fasta > chenos_mapped.sam`"
   ]
  },
  {
   "cell_type": "code",
   "execution_count": null,
   "metadata": {},
   "outputs": [],
   "source": []
  },
  {
   "cell_type": "code",
   "execution_count": 39,
   "metadata": {},
   "outputs": [
    {
     "data": {
      "text/plain": [
       "{'Bassia': 'CTTATTTCTG[AG]AG[AG]A[AT]A----',\n",
       " 'Salsola': 'CTTCTACCTGGAGAAGA----',\n",
       " 'Suaeda': 'TTGATTTTTGCAGGATA----',\n",
       " 'Tecticornia': 'CTTATACCTTAAGGAA-----',\n",
       " 'bluebush': 'CTTATTCCTGGA[GT]AATA----',\n",
       " 'saltbush': 'C[CT]T[AC][ACGT][CT][CT]C[GT]GC[AG][GT]A[AC][ACGT][ACGT][ACGT][ACGT][ACGT][ACGT]'}"
      ]
     },
     "execution_count": 39,
     "metadata": {},
     "output_type": "execute_result"
    }
   ],
   "source": [
    "clade_str_regex"
   ]
  }
 ],
 "metadata": {
  "kernelspec": {
   "display_name": "Python 3",
   "language": "python",
   "name": "python3"
  },
  "language_info": {
   "codemirror_mode": {
    "name": "ipython",
    "version": 3
   },
   "file_extension": ".py",
   "mimetype": "text/x-python",
   "name": "python",
   "nbconvert_exporter": "python",
   "pygments_lexer": "ipython3",
   "version": "3.6.2"
  }
 },
 "nbformat": 4,
 "nbformat_minor": 2
}
