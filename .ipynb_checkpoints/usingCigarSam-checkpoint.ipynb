{
 "cells": [
  {
   "cell_type": "code",
   "execution_count": 1,
   "metadata": {},
   "outputs": [],
   "source": [
    "import pysam"
   ]
  },
  {
   "cell_type": "code",
   "execution_count": 2,
   "metadata": {},
   "outputs": [],
   "source": [
    "%load_ext autoreload\n",
    "%autoreload 2"
   ]
  },
  {
   "cell_type": "code",
   "execution_count": 4,
   "metadata": {},
   "outputs": [],
   "source": [
    "from allele_functions.cigar_funcs import *"
   ]
  },
  {
   "cell_type": "code",
   "execution_count": 7,
   "metadata": {},
   "outputs": [],
   "source": [
    "bamfileE = pysam.AlignmentFile(\"/Users/hughcross/Analysis/Paua/sort_allBucks.bam\", \"rb\")"
   ]
  },
  {
   "cell_type": "code",
   "execution_count": 8,
   "metadata": {},
   "outputs": [],
   "source": [
    "hap1 = bamfileE.fetch(\"CCB11_Haplotype1\")"
   ]
  },
  {
   "cell_type": "code",
   "execution_count": 22,
   "metadata": {},
   "outputs": [
    {
     "name": "stdout",
     "output_type": "stream",
     "text": [
      "(10, 25, 139, 160, 220, 304, 343)\n"
     ]
    }
   ],
   "source": [
    "posList = [10,25,139,160,220,304,343]\n",
    "posTup = tuple(posList)\n",
    "print(posTup)"
   ]
  },
  {
   "cell_type": "code",
   "execution_count": 9,
   "metadata": {},
   "outputs": [],
   "source": [
    "positions = (10,25,139,160,220,304,343)"
   ]
  },
  {
   "cell_type": "code",
   "execution_count": 11,
   "metadata": {},
   "outputs": [
    {
     "name": "stdout",
     "output_type": "stream",
     "text": [
      "[9, 24, 138, 159, 219, 303, 342]\n"
     ]
    }
   ],
   "source": [
    "positions0 = []\n",
    "for x in positions:\n",
    "    p = x - 1\n",
    "    positions0.append(p)\n",
    "print(positions0)"
   ]
  },
  {
   "cell_type": "code",
   "execution_count": 16,
   "metadata": {},
   "outputs": [],
   "source": [
    "pos0 = (9, 24, 138, 159, 219, 303, 342)"
   ]
  },
  {
   "cell_type": "code",
   "execution_count": 12,
   "metadata": {},
   "outputs": [
    {
     "name": "stdout",
     "output_type": "stream",
     "text": [
      "157698\n"
     ]
    }
   ],
   "source": [
    "# simple trial\n",
    "cigDict = {}\n",
    "for c in hap1:\n",
    "    qy = c.query_name\n",
    "    cig = c.cigarstring\n",
    "    cigDict[qy]=cig\n",
    "print(len(cigDict))"
   ]
  },
  {
   "cell_type": "code",
   "execution_count": 13,
   "metadata": {},
   "outputs": [
    {
     "data": {
      "text/plain": [
       "'OTU_1'"
      ]
     },
     "execution_count": 13,
     "metadata": {},
     "output_type": "execute_result"
    }
   ],
   "source": [
    "cigList = list(cigDict.keys())\n",
    "cigList[0]"
   ]
  },
  {
   "cell_type": "code",
   "execution_count": 14,
   "metadata": {},
   "outputs": [
    {
     "data": {
      "text/plain": [
       "'351M'"
      ]
     },
     "execution_count": 14,
     "metadata": {},
     "output_type": "execute_result"
    }
   ],
   "source": [
    "cigDict['OTU_1']"
   ]
  },
  {
   "cell_type": "code",
   "execution_count": 10,
   "metadata": {},
   "outputs": [
    {
     "name": "stdout",
     "output_type": "stream",
     "text": [
      "157698\n",
      "157698\n"
     ]
    }
   ],
   "source": [
    "# more complicated\n",
    "cigD = {}\n",
    "seqD = {}\n",
    "for c in hap1:\n",
    "    qy = c.query_name\n",
    "    cig = c.cigarstring\n",
    "    cigRef = cigar_ref(cig)\n",
    "    # make seqdict with quality\n",
    "    seq = c.query_sequence\n",
    "    qual = c.query_qualities\n",
    "    seqD.setdefault(qy, {})['seq']=seq\n",
    "    seqD.setdefault(qy, {})['qual']=qual\n",
    "    # get haplotype for each\n",
    "    hapStr = ''\n",
    "    for p in positions:\n",
    "        posi = posi_finder(cigRef, p)\n",
    "        if len(seq) > posi:\n",
    "            base = seq[posi]\n",
    "            hapStr = hapStr + base\n",
    "    cigD[qy]=hapStr\n",
    "print(len(cigD))\n",
    "print(len(seqD))"
   ]
  },
  {
   "cell_type": "code",
   "execution_count": 23,
   "metadata": {},
   "outputs": [],
   "source": [
    "# query_alignment_sequence\n",
    "# query_alignment_qualities\n",
    "# query_sequence\n",
    "# query_qualities"
   ]
  },
  {
   "cell_type": "code",
   "execution_count": 11,
   "metadata": {},
   "outputs": [
    {
     "data": {
      "text/plain": [
       "'CAAAAGT'"
      ]
     },
     "execution_count": 11,
     "metadata": {},
     "output_type": "execute_result"
    }
   ],
   "source": [
    "cigD['OTU_4']"
   ]
  },
  {
   "cell_type": "code",
   "execution_count": 17,
   "metadata": {},
   "outputs": [
    {
     "data": {
      "text/plain": [
       "{'seq': 'TAACTGACTCGTCCCACTAATATTAGGCGCACCAGATATGGCTTTTCCTCGACTCAACAACATAAGATTTTGACTACTTCCCCCATCCCTAACTCTTCTCCTAACATCAGGAGCCGTAGAAAGCGGTGCAGGGACAGGATGAACAGTTTACCCTCCTTTATCTAGTAACCTTGCCCATGCAGGCGCATCCGTAGACCTTGCAATTTTCTCCCTACACTTAGCCGGAATCTCATCAATCCTAGGAGCTGTAAACTTTATCACCACAGTAATAAACATACGAGTAAAAGCACAGCCCCTAGAACGGATACCTTTATTCGTCTGATCCGTAAAAATTACCGCCATTCTACTTCT',\n",
       " 'qual': None}"
      ]
     },
     "execution_count": 17,
     "metadata": {},
     "output_type": "execute_result"
    }
   ],
   "source": [
    "seqD['OTU_4']"
   ]
  },
  {
   "cell_type": "code",
   "execution_count": 12,
   "metadata": {},
   "outputs": [],
   "source": [
    "haplotypes = {'CAGGAGT':1,'TAGGGGT':2,'CAGGAAT':3,'CAAAAGT':4,'TGGGAGT':5,'CAAGAGT':6,'TAGGGGC':7}"
   ]
  },
  {
   "cell_type": "code",
   "execution_count": 13,
   "metadata": {},
   "outputs": [
    {
     "name": "stdout",
     "output_type": "stream",
     "text": [
      "22268\n"
     ]
    }
   ],
   "source": [
    "hapLists = {}\n",
    "notFound = []\n",
    "for k,v in cigD.items():\n",
    "    if v in haplotypes:\n",
    "        htype = haplotypes[v]\n",
    "        hapLists.setdefault(htype, []).append(k)\n",
    "    else:\n",
    "        notFound.append(k)\n",
    "        \n",
    "print(len(notFound))"
   ]
  },
  {
   "cell_type": "code",
   "execution_count": 14,
   "metadata": {},
   "outputs": [
    {
     "data": {
      "text/plain": [
       "44193"
      ]
     },
     "execution_count": 14,
     "metadata": {},
     "output_type": "execute_result"
    }
   ],
   "source": [
    "len(hapLists[1])"
   ]
  },
  {
   "cell_type": "code",
   "execution_count": 15,
   "metadata": {},
   "outputs": [
    {
     "name": "stdout",
     "output_type": "stream",
     "text": [
      "haplotype 3 51384\n",
      "haplotype 1 44193\n",
      "haplotype 2 26664\n",
      "haplotype 4 12488\n",
      "haplotype 7 504\n",
      "haplotype 6 195\n",
      "haplotype 5 2\n"
     ]
    }
   ],
   "source": [
    "for k,v in hapLists.items():\n",
    "    print('haplotype', k, len(v))"
   ]
  },
  {
   "cell_type": "code",
   "execution_count": 16,
   "metadata": {},
   "outputs": [
    {
     "data": {
      "text/plain": [
       "['OTU_40918', 'OTU_144307']"
      ]
     },
     "execution_count": 16,
     "metadata": {},
     "output_type": "execute_result"
    }
   ],
   "source": [
    "hapLists[5]"
   ]
  },
  {
   "cell_type": "markdown",
   "metadata": {},
   "source": [
    "## Output to sequence files"
   ]
  },
  {
   "cell_type": "code",
   "execution_count": 18,
   "metadata": {},
   "outputs": [],
   "source": [
    "## fasta option, but provide both fastq and fasta\n",
    "haplist = [1,2,3,4,5,6,7]"
   ]
  },
  {
   "cell_type": "code",
   "execution_count": 20,
   "metadata": {},
   "outputs": [],
   "source": [
    "sampleName = 'bucket_test'"
   ]
  },
  {
   "cell_type": "code",
   "execution_count": 21,
   "metadata": {},
   "outputs": [],
   "source": [
    "for hap in haplist:\n",
    "    newFileName = sampleName+'_haplotype'+str(hap)+'.fasta'\n",
    "    output = open(newFileName, 'w')\n",
    "    readlist = hapLists[hap]\n",
    "    for read in readlist:\n",
    "        output.write('>'+read+'\\n'+seqD[read]['seq']+'\\n')\n",
    "    output.close()"
   ]
  },
  {
   "cell_type": "markdown",
   "metadata": {},
   "source": [
    "## Get dict of haplotypes and list of positions from files"
   ]
  },
  {
   "cell_type": "code",
   "execution_count": 23,
   "metadata": {},
   "outputs": [],
   "source": [
    "hapFile = open('/Users/hughcross/Analysis/repos/meta_tools/example_haplotypes.txt')"
   ]
  },
  {
   "cell_type": "code",
   "execution_count": 24,
   "metadata": {},
   "outputs": [
    {
     "name": "stdout",
     "output_type": "stream",
     "text": [
      "7\n",
      "{'1': 'CAGGAGT', '2': 'TAGGGGT', '3': 'CAGGAAT', '4': 'CAAAAGT', '5': 'TGGGAGT', '6': 'CAAGAGT', '7': 'TAGGGGC'}\n"
     ]
    }
   ],
   "source": [
    "hapDict = {}\n",
    "for line in hapFile:\n",
    "    line = line.strip('\\n')\n",
    "    parts = line.split('\\t')\n",
    "    hapDict[parts[0]]=parts[1]\n",
    "hapFile.close()\n",
    "print(len(hapDict))\n",
    "print(hapDict)"
   ]
  },
  {
   "cell_type": "code",
   "execution_count": 25,
   "metadata": {},
   "outputs": [],
   "source": [
    "posFile = open('/Users/hughcross/Analysis/repos/meta_tools/example_position_list.txt')"
   ]
  },
  {
   "cell_type": "code",
   "execution_count": 26,
   "metadata": {},
   "outputs": [
    {
     "name": "stdout",
     "output_type": "stream",
     "text": [
      "['10', '25', '139', '160', '220', '304', '343']\n",
      "('10', '25', '139', '160', '220', '304', '343')\n"
     ]
    }
   ],
   "source": [
    "posList = []\n",
    "for line in posFile:\n",
    "    line = line.strip('\\n')\n",
    "    posList.append(line)\n",
    "posFile.close()\n",
    "positions = tuple(posList)\n",
    "print(posList)\n",
    "print(positions)"
   ]
  },
  {
   "cell_type": "code",
   "execution_count": null,
   "metadata": {},
   "outputs": [],
   "source": []
  }
 ],
 "metadata": {
  "kernelspec": {
   "display_name": "Python 3",
   "language": "python",
   "name": "python3"
  },
  "language_info": {
   "codemirror_mode": {
    "name": "ipython",
    "version": 3
   },
   "file_extension": ".py",
   "mimetype": "text/x-python",
   "name": "python",
   "nbconvert_exporter": "python",
   "pygments_lexer": "ipython3",
   "version": "3.7.3"
  }
 },
 "nbformat": 4,
 "nbformat_minor": 4
}
