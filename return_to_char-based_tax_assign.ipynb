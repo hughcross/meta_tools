{
 "cells": [
  {
   "cell_type": "code",
   "execution_count": 4,
   "metadata": {},
   "outputs": [],
   "source": [
    "from allele_functions.cigar_funcs import *"
   ]
  },
  {
   "cell_type": "code",
   "execution_count": 5,
   "metadata": {},
   "outputs": [],
   "source": [
    "# try a simple example from sam file sam_4104\n",
    "N1MP2_128cig = '195M' \n",
    "N1MP2_128seq = 'ATTGAATGGAGATGTATGTTTTGAGATATTGGACAACATTGCTGAGCGGGAGAGGAAGAAGGCTGGAGCACCAGGATTTGGAACTCCAAATATCATTTCCGCCCCTATCGCACCGTCCGTCATTACGCAGACCTTCGTGCACCCTAAATGTAACCAGTGCGGCGATGATAAAAGTGTGAGGACGTCTAGTAAAAC'"
   ]
  },
  {
   "cell_type": "code",
   "execution_count": 6,
   "metadata": {},
   "outputs": [
    {
     "name": "stdout",
     "output_type": "stream",
     "text": [
      "[[195], ['M']]\n"
     ]
    },
    {
     "name": "stderr",
     "output_type": "stream",
     "text": [
      "/Users/hughcross/anaconda/envs/py3/lib/python3.6/re.py:212: FutureWarning: split() requires a non-empty pattern match.\n",
      "  return _compile(pattern, flags).split(string, maxsplit)\n"
     ]
    }
   ],
   "source": [
    "cig1 = cigar_ref(N1MP2_128cig)\n",
    "print(cig1)"
   ]
  },
  {
   "cell_type": "code",
   "execution_count": 8,
   "metadata": {},
   "outputs": [
    {
     "name": "stdout",
     "output_type": "stream",
     "text": [
      "Python 3.6.2 :: Continuum Analytics, Inc.\n"
     ]
    }
   ],
   "source": [
    "!python --version"
   ]
  },
  {
   "cell_type": "code",
   "execution_count": 9,
   "metadata": {},
   "outputs": [
    {
     "name": "stdout",
     "output_type": "stream",
     "text": [
      "5\n"
     ]
    }
   ],
   "source": [
    "# do adjustment for position\n",
    "adjust1 = pus_finder(cig1, 6)\n",
    "print(adjust1)"
   ]
  },
  {
   "cell_type": "code",
   "execution_count": 10,
   "metadata": {},
   "outputs": [
    {
     "name": "stdout",
     "output_type": "stream",
     "text": [
      "A\n"
     ]
    }
   ],
   "source": [
    "base1 = N1MP2_128seq[adjust1]\n",
    "print(base1)"
   ]
  },
  {
   "cell_type": "code",
   "execution_count": 11,
   "metadata": {},
   "outputs": [],
   "source": [
    "# another, more complicated\n",
    "N1MP2_156cig = '2S33M6I123M'\n",
    "N1MP2_156seq = 'TAGCATCCATTCTGGCTGGTCTAGCAAGTCTCGCCCCTCAACCTCAACCTCAGCCTCAACCACCACAAGCTCCACCTCCGCCTCAAGAATCTGGTCCGTCTCACGTTCCAGTCCCCTATCATCAAGCCCATGAAGCACAGCCAAATCACCAATACCAGCAAATC'"
   ]
  },
  {
   "cell_type": "code",
   "execution_count": 12,
   "metadata": {},
   "outputs": [
    {
     "name": "stderr",
     "output_type": "stream",
     "text": [
      "/Users/hughcross/anaconda/envs/py3/lib/python3.6/re.py:212: FutureWarning: split() requires a non-empty pattern match.\n",
      "  return _compile(pattern, flags).split(string, maxsplit)\n"
     ]
    },
    {
     "data": {
      "text/plain": [
       "[[2, 33, 6, 123], ['S', 'M', 'I', 'M']]"
      ]
     },
     "execution_count": 12,
     "metadata": {},
     "output_type": "execute_result"
    }
   ],
   "source": [
    "cig2 = cigar_ref(N1MP2_156cig)\n",
    "cig2"
   ]
  },
  {
   "cell_type": "code",
   "execution_count": 13,
   "metadata": {},
   "outputs": [
    {
     "data": {
      "text/plain": [
       "57"
      ]
     },
     "execution_count": 13,
     "metadata": {},
     "output_type": "execute_result"
    }
   ],
   "source": [
    "adjust2 = pus_finder(cig2, 50)\n",
    "adjust2"
   ]
  },
  {
   "cell_type": "code",
   "execution_count": 15,
   "metadata": {},
   "outputs": [
    {
     "data": {
      "text/plain": [
       "'A'"
      ]
     },
     "execution_count": 15,
     "metadata": {},
     "output_type": "execute_result"
    }
   ],
   "source": [
    "base2 = N1MP2_156seq[adjust2]\n",
    "base2"
   ]
  },
  {
   "cell_type": "markdown",
   "metadata": {},
   "source": [
    "modify from original hymenoscyphus script (cigar_sample_sorter.py) to create flexible pipeline for different alignment and key characters"
   ]
  },
  {
   "cell_type": "code",
   "execution_count": null,
   "metadata": {},
   "outputs": [],
   "source": []
  }
 ],
 "metadata": {
  "kernelspec": {
   "display_name": "Python 3",
   "language": "python",
   "name": "python3"
  },
  "language_info": {
   "codemirror_mode": {
    "name": "ipython",
    "version": 3
   },
   "file_extension": ".py",
   "mimetype": "text/x-python",
   "name": "python",
   "nbconvert_exporter": "python",
   "pygments_lexer": "ipython3",
   "version": "3.6.2"
  }
 },
 "nbformat": 4,
 "nbformat_minor": 2
}
