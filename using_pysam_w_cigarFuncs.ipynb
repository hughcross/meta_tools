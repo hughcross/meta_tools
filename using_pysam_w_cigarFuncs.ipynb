{
 "cells": [
  {
   "cell_type": "code",
   "execution_count": 4,
   "metadata": {},
   "outputs": [],
   "source": [
    "import pysam"
   ]
  },
  {
   "cell_type": "code",
   "execution_count": 2,
   "metadata": {},
   "outputs": [],
   "source": [
    "%load_ext autoreload\n",
    "%autoreload 2"
   ]
  },
  {
   "cell_type": "code",
   "execution_count": 3,
   "metadata": {},
   "outputs": [],
   "source": [
    "import sys\n",
    "sys.path.append('/Users/hughcross/Analysis/repos/consensus_builder/consensus_functions')\n",
    "from cigar_funcs import *\n",
    "# for allele functions\n",
    "## from allele_functions.cigar_funcs import *"
   ]
  },
  {
   "cell_type": "code",
   "execution_count": 5,
   "metadata": {},
   "outputs": [],
   "source": [
    "samfile = pysam.AlignmentFile(\"/Users/hughcross/Analysis/ADB/hymenoscyphus_variants/sam_all_hymeno_fraxref.sam\", \"r\")"
   ]
  },
  {
   "cell_type": "code",
   "execution_count": 6,
   "metadata": {},
   "outputs": [
    {
     "ename": "ValueError",
     "evalue": "fetching by region is not available for SAM files",
     "output_type": "error",
     "traceback": [
      "\u001b[0;31m---------------------------------------------------------------------------\u001b[0m",
      "\u001b[0;31mValueError\u001b[0m                                Traceback (most recent call last)",
      "\u001b[0;32m<ipython-input-6-702898b0822a>\u001b[0m in \u001b[0;36m<module>\u001b[0;34m()\u001b[0m\n\u001b[0;32m----> 1\u001b[0;31m \u001b[0miter\u001b[0m \u001b[0;34m=\u001b[0m \u001b[0msamfile\u001b[0m\u001b[0;34m.\u001b[0m\u001b[0mfetch\u001b[0m\u001b[0;34m(\u001b[0m\u001b[0;34m\"Hymenoscyphus_fraxineus_varA_58_its2\"\u001b[0m\u001b[0;34m,\u001b[0m \u001b[0;36m10\u001b[0m\u001b[0;34m,\u001b[0m \u001b[0;36m20\u001b[0m\u001b[0;34m)\u001b[0m\u001b[0;34m\u001b[0m\u001b[0m\n\u001b[0m",
      "\u001b[0;32mpysam/libcalignmentfile.pyx\u001b[0m in \u001b[0;36mpysam.libcalignmentfile.AlignmentFile.fetch\u001b[0;34m()\u001b[0m\n",
      "\u001b[0;31mValueError\u001b[0m: fetching by region is not available for SAM files"
     ]
    }
   ],
   "source": [
    "iter = samfile.fetch(\"Hymenoscyphus_fraxineus_varA_58_its2\", 10, 20)"
   ]
  },
  {
   "cell_type": "code",
   "execution_count": 7,
   "metadata": {},
   "outputs": [
    {
     "ename": "NotImplementedError",
     "evalue": "pileup of samfiles not implemented yet",
     "output_type": "error",
     "traceback": [
      "\u001b[0;31m---------------------------------------------------------------------------\u001b[0m",
      "\u001b[0;31mNotImplementedError\u001b[0m                       Traceback (most recent call last)",
      "\u001b[0;32m<ipython-input-7-078354615deb>\u001b[0m in \u001b[0;36m<module>\u001b[0;34m()\u001b[0m\n\u001b[0;32m----> 1\u001b[0;31m \u001b[0miter\u001b[0m \u001b[0;34m=\u001b[0m \u001b[0msamfile\u001b[0m\u001b[0;34m.\u001b[0m\u001b[0mpileup\u001b[0m\u001b[0;34m(\u001b[0m\u001b[0;34m'Hymenoscyphus_fraxineus_varA_58_its2'\u001b[0m\u001b[0;34m,\u001b[0m \u001b[0;36m10\u001b[0m\u001b[0;34m,\u001b[0m \u001b[0;36m20\u001b[0m\u001b[0;34m)\u001b[0m\u001b[0;34m\u001b[0m\u001b[0m\n\u001b[0m",
      "\u001b[0;32mpysam/libcalignmentfile.pyx\u001b[0m in \u001b[0;36mpysam.libcalignmentfile.AlignmentFile.pileup\u001b[0;34m()\u001b[0m\n",
      "\u001b[0;31mNotImplementedError\u001b[0m: pileup of samfiles not implemented yet"
     ]
    }
   ],
   "source": [
    "iter = samfile.pileup('Hymenoscyphus_fraxineus_varA_58_its2', 10, 20)\n"
   ]
  },
  {
   "cell_type": "code",
   "execution_count": 97,
   "metadata": {},
   "outputs": [],
   "source": [
    "bamfileE = pysam.AlignmentFile(\"/Users/hughcross/Analysis/MYCO/Eager_results/test5.bam\", \"rb\")"
   ]
  },
  {
   "cell_type": "code",
   "execution_count": 98,
   "metadata": {},
   "outputs": [],
   "source": [
    "f = bamfileE.fetch(\"rpoB_NC_000962.2\")"
   ]
  },
  {
   "cell_type": "code",
   "execution_count": 99,
   "metadata": {},
   "outputs": [
    {
     "name": "stdout",
     "output_type": "stream",
     "text": [
      "4132\n"
     ]
    }
   ],
   "source": [
    "cigD = []\n",
    "for x in f:\n",
    "    \n",
    "    cigD.append(x)\n",
    "print(len(cigD))"
   ]
  },
  {
   "cell_type": "code",
   "execution_count": 102,
   "metadata": {},
   "outputs": [
    {
     "data": {
      "text/plain": [
       "'M_7001326F:171:HYJHCBCX2:2:1105:12820:28837'"
      ]
     },
     "execution_count": 102,
     "metadata": {},
     "output_type": "execute_result"
    }
   ],
   "source": [
    "cigD[0].query_name"
   ]
  },
  {
   "cell_type": "code",
   "execution_count": 103,
   "metadata": {},
   "outputs": [
    {
     "data": {
      "text/plain": [
       "'rpoB_NC_000962.2'"
      ]
     },
     "execution_count": 103,
     "metadata": {},
     "output_type": "execute_result"
    }
   ],
   "source": [
    "cigD[0].reference_name"
   ]
  },
  {
   "cell_type": "code",
   "execution_count": 104,
   "metadata": {},
   "outputs": [
    {
     "data": {
      "text/plain": [
       "'77M'"
      ]
     },
     "execution_count": 104,
     "metadata": {},
     "output_type": "execute_result"
    }
   ],
   "source": [
    "cigD[0].cigarstring"
   ]
  },
  {
   "cell_type": "code",
   "execution_count": null,
   "metadata": {},
   "outputs": [],
   "source": []
  },
  {
   "cell_type": "code",
   "execution_count": null,
   "metadata": {},
   "outputs": [],
   "source": []
  },
  {
   "cell_type": "code",
   "execution_count": 18,
   "metadata": {},
   "outputs": [],
   "source": [
    "iter = bamfile.pileup(\"gyrA_NC_008769.1\", 10, 20)"
   ]
  },
  {
   "cell_type": "code",
   "execution_count": 22,
   "metadata": {},
   "outputs": [
    {
     "data": {
      "text/plain": [
       "<pysam.libcalignmentfile.IteratorColumnRegion at 0x103355480>"
      ]
     },
     "execution_count": 22,
     "metadata": {},
     "output_type": "execute_result"
    }
   ],
   "source": [
    "iter    "
   ]
  },
  {
   "cell_type": "code",
   "execution_count": 75,
   "metadata": {},
   "outputs": [],
   "source": [
    "dragon = pysam.AlignmentFile('/Users/hughcross/Analysis/Dragon/mapping/sorted_filt_rhaeg2drogon1_hi2_map_genome.bam','rb')"
   ]
  },
  {
   "cell_type": "code",
   "execution_count": 76,
   "metadata": {},
   "outputs": [
    {
     "data": {
      "text/plain": [
       "<pysam.libcalignmentfile.AlignmentFile at 0x1039bf0d8>"
      ]
     },
     "execution_count": 76,
     "metadata": {},
     "output_type": "execute_result"
    }
   ],
   "source": [
    "dragon"
   ]
  },
  {
   "cell_type": "code",
   "execution_count": 78,
   "metadata": {},
   "outputs": [
    {
     "name": "stdout",
     "output_type": "stream",
     "text": [
      "1698324\n"
     ]
    }
   ],
   "source": [
    "dragA = []\n",
    "for x in dragon:\n",
    "    dragA.append(x)\n",
    "print(len(dragA))"
   ]
  },
  {
   "cell_type": "code",
   "execution_count": 81,
   "metadata": {},
   "outputs": [
    {
     "data": {
      "text/plain": [
       "'FS10000385:5:BPA73020-1512:1:1101:13530:1030'"
      ]
     },
     "execution_count": 81,
     "metadata": {},
     "output_type": "execute_result"
    }
   ],
   "source": [
    "dragA[0].query_name"
   ]
  },
  {
   "cell_type": "code",
   "execution_count": 84,
   "metadata": {},
   "outputs": [
    {
     "data": {
      "text/plain": [
       "(array('I', [129, 0, 0, 0, 22, 0, 0, 0, 0, 0, 0]),\n",
       " array('I', [1, 0, 0, 0, 1, 0, 0, 0, 0, 0, 0]))"
      ]
     },
     "execution_count": 84,
     "metadata": {},
     "output_type": "execute_result"
    }
   ],
   "source": [
    "dragA[1].get_cigar_stats()"
   ]
  },
  {
   "cell_type": "code",
   "execution_count": 86,
   "metadata": {},
   "outputs": [
    {
     "data": {
      "text/plain": [
       "'25S125M1S'"
      ]
     },
     "execution_count": 86,
     "metadata": {},
     "output_type": "execute_result"
    }
   ],
   "source": [
    "dragA[0].cigarstring"
   ]
  },
  {
   "cell_type": "code",
   "execution_count": 87,
   "metadata": {},
   "outputs": [
    {
     "data": {
      "text/plain": [
       "[(4, 25), (0, 125), (4, 1)]"
      ]
     },
     "execution_count": 87,
     "metadata": {},
     "output_type": "execute_result"
    }
   ],
   "source": [
    "dragA[0].cigartuples"
   ]
  },
  {
   "cell_type": "code",
   "execution_count": 88,
   "metadata": {},
   "outputs": [],
   "source": [
    "cig0 = dragA[0].cigarstring"
   ]
  },
  {
   "cell_type": "code",
   "execution_count": 89,
   "metadata": {},
   "outputs": [
    {
     "name": "stderr",
     "output_type": "stream",
     "text": [
      "/Users/hughcross/anaconda2/envs/py3/lib/python3.6/re.py:212: FutureWarning: split() requires a non-empty pattern match.\n",
      "  return _compile(pattern, flags).split(string, maxsplit)\n"
     ]
    }
   ],
   "source": [
    "cig0ref = cigar_ref(cig0)"
   ]
  },
  {
   "cell_type": "code",
   "execution_count": 90,
   "metadata": {},
   "outputs": [
    {
     "data": {
      "text/plain": [
       "[[25, 125, 1], ['S', 'M', 'S']]"
      ]
     },
     "execution_count": 90,
     "metadata": {},
     "output_type": "execute_result"
    }
   ],
   "source": [
    "cig0ref"
   ]
  },
  {
   "cell_type": "code",
   "execution_count": 92,
   "metadata": {},
   "outputs": [],
   "source": [
    "pos0 = posi_finder(cig0ref, 50)"
   ]
  },
  {
   "cell_type": "code",
   "execution_count": 93,
   "metadata": {},
   "outputs": [
    {
     "data": {
      "text/plain": [
       "74"
      ]
     },
     "execution_count": 93,
     "metadata": {},
     "output_type": "execute_result"
    }
   ],
   "source": [
    "pos0"
   ]
  },
  {
   "cell_type": "code",
   "execution_count": 94,
   "metadata": {},
   "outputs": [],
   "source": [
    "qseq0 = dragA[0].query_sequence"
   ]
  },
  {
   "cell_type": "code",
   "execution_count": 96,
   "metadata": {},
   "outputs": [
    {
     "data": {
      "text/plain": [
       "'C'"
      ]
     },
     "execution_count": 96,
     "metadata": {},
     "output_type": "execute_result"
    }
   ],
   "source": [
    "qseq0[74]"
   ]
  },
  {
   "cell_type": "code",
   "execution_count": null,
   "metadata": {},
   "outputs": [],
   "source": []
  },
  {
   "cell_type": "code",
   "execution_count": null,
   "metadata": {},
   "outputs": [],
   "source": []
  },
  {
   "cell_type": "code",
   "execution_count": null,
   "metadata": {},
   "outputs": [],
   "source": []
  },
  {
   "cell_type": "code",
   "execution_count": 68,
   "metadata": {},
   "outputs": [],
   "source": [
    "dr = dragon.pileup(\"drogon1_initial_map_to_NC_006922noCirc_consensus_sequence\")"
   ]
  },
  {
   "cell_type": "code",
   "execution_count": 69,
   "metadata": {},
   "outputs": [
    {
     "data": {
      "text/plain": [
       "<pysam.libcalignmentfile.IteratorColumnRegion at 0x1033558b8>"
      ]
     },
     "execution_count": 69,
     "metadata": {},
     "output_type": "execute_result"
    }
   ],
   "source": [
    "dr"
   ]
  },
  {
   "cell_type": "code",
   "execution_count": 70,
   "metadata": {},
   "outputs": [],
   "source": [
    "drList = []\n",
    "for x in dr:\n",
    "    drList.append(x)"
   ]
  },
  {
   "cell_type": "code",
   "execution_count": 73,
   "metadata": {},
   "outputs": [
    {
     "ename": "AttributeError",
     "evalue": "'pysam.libcalignedsegment.PileupColumn' object has no attribute 'query_name'",
     "output_type": "error",
     "traceback": [
      "\u001b[0;31m---------------------------------------------------------------------------\u001b[0m",
      "\u001b[0;31mAttributeError\u001b[0m                            Traceback (most recent call last)",
      "\u001b[0;32m<ipython-input-73-57882fa81e00>\u001b[0m in \u001b[0;36m<module>\u001b[0;34m()\u001b[0m\n\u001b[0;32m----> 1\u001b[0;31m \u001b[0mdrList\u001b[0m\u001b[0;34m[\u001b[0m\u001b[0;36m0\u001b[0m\u001b[0;34m]\u001b[0m\u001b[0;34m.\u001b[0m\u001b[0mquery_name\u001b[0m\u001b[0;34m(\u001b[0m\u001b[0;34m)\u001b[0m\u001b[0;34m\u001b[0m\u001b[0m\n\u001b[0m",
      "\u001b[0;31mAttributeError\u001b[0m: 'pysam.libcalignedsegment.PileupColumn' object has no attribute 'query_name'"
     ]
    }
   ],
   "source": [
    "drList[0].query_name()"
   ]
  },
  {
   "cell_type": "code",
   "execution_count": 67,
   "metadata": {},
   "outputs": [
    {
     "data": {
      "text/plain": [
       "0"
      ]
     },
     "execution_count": 67,
     "metadata": {},
     "output_type": "execute_result"
    }
   ],
   "source": [
    "len(drList)"
   ]
  },
  {
   "cell_type": "code",
   "execution_count": 54,
   "metadata": {},
   "outputs": [
    {
     "name": "stdout",
     "output_type": "stream",
     "text": [
      "0\n"
     ]
    }
   ],
   "source": [
    "dragC = []\n",
    "for read in dragon:\n",
    "    dragC.append(read.cigarstring())\n",
    "print(len(dragC))"
   ]
  },
  {
   "cell_type": "code",
   "execution_count": 57,
   "metadata": {},
   "outputs": [
    {
     "ename": "AttributeError",
     "evalue": "'pysam.libcalignmentfile.AlignmentFile' object has no attribute 'cigartuples'",
     "output_type": "error",
     "traceback": [
      "\u001b[0;31m---------------------------------------------------------------------------\u001b[0m",
      "\u001b[0;31mAttributeError\u001b[0m                            Traceback (most recent call last)",
      "\u001b[0;32m<ipython-input-57-03901c0ef298>\u001b[0m in \u001b[0;36m<module>\u001b[0;34m()\u001b[0m\n\u001b[0;32m----> 1\u001b[0;31m \u001b[0mdragon\u001b[0m\u001b[0;34m.\u001b[0m\u001b[0mcigartuples\u001b[0m\u001b[0;34m(\u001b[0m\u001b[0;34m)\u001b[0m\u001b[0;34m\u001b[0m\u001b[0m\n\u001b[0m",
      "\u001b[0;31mAttributeError\u001b[0m: 'pysam.libcalignmentfile.AlignmentFile' object has no attribute 'cigartuples'"
     ]
    }
   ],
   "source": [
    "dragon.cigartuples()"
   ]
  },
  {
   "cell_type": "code",
   "execution_count": 58,
   "metadata": {},
   "outputs": [],
   "source": [
    "import inspect"
   ]
  },
  {
   "cell_type": "code",
   "execution_count": 59,
   "metadata": {},
   "outputs": [
    {
     "data": {
      "text/plain": [
       "[('__class__', type),\n",
       " ('__copy__',\n",
       "  <method '__copy__' of 'pysam.libcalignedsegment.AlignedSegment' objects>),\n",
       " ('__deepcopy__',\n",
       "  <method '__deepcopy__' of 'pysam.libcalignedsegment.AlignedSegment' objects>),\n",
       " ('__delattr__', <slot wrapper '__delattr__' of 'object' objects>),\n",
       " ('__dir__', <method '__dir__' of 'object' objects>),\n",
       " ('__doc__',\n",
       "  'AlignedSegment(AlignmentHeader header=None)\\nClass representing an aligned segment.\\n\\n    This class stores a handle to the samtools C-structure representing\\n    an aligned read. Member read access is forwarded to the C-structure\\n    and converted into python objects. This implementation should be fast,\\n    as only the data needed is converted.\\n\\n    For write access, the C-structure is updated in-place. This is\\n    not the most efficient way to build BAM entries, as the variable\\n    length data is concatenated and thus needs to be resized if\\n    a field is updated. Furthermore, the BAM entry might be\\n    in an inconsistent state.\\n\\n    One issue to look out for is that the sequence should always\\n    be set *before* the quality scores. Setting the sequence will\\n    also erase any quality scores that were set previously.\\n\\n    Parameters\\n    ----------\\n\\n    header -- :class:`~pysam.AlignmentHeader` object to map numerical\\n              identifiers to chromosome names. If not given, an empty\\n              header is created.\\n    '),\n",
       " ('__eq__',\n",
       "  <slot wrapper '__eq__' of 'pysam.libcalignedsegment.AlignedSegment' objects>),\n",
       " ('__format__', <method '__format__' of 'object' objects>),\n",
       " ('__ge__',\n",
       "  <slot wrapper '__ge__' of 'pysam.libcalignedsegment.AlignedSegment' objects>),\n",
       " ('__getattribute__', <slot wrapper '__getattribute__' of 'object' objects>),\n",
       " ('__gt__',\n",
       "  <slot wrapper '__gt__' of 'pysam.libcalignedsegment.AlignedSegment' objects>),\n",
       " ('__hash__',\n",
       "  <slot wrapper '__hash__' of 'pysam.libcalignedsegment.AlignedSegment' objects>),\n",
       " ('__init__',\n",
       "  <slot wrapper '__init__' of 'pysam.libcalignedsegment.AlignedSegment' objects>),\n",
       " ('__init_subclass__', <function AlignedSegment.__init_subclass__>),\n",
       " ('__le__',\n",
       "  <slot wrapper '__le__' of 'pysam.libcalignedsegment.AlignedSegment' objects>),\n",
       " ('__lt__',\n",
       "  <slot wrapper '__lt__' of 'pysam.libcalignedsegment.AlignedSegment' objects>),\n",
       " ('__ne__',\n",
       "  <slot wrapper '__ne__' of 'pysam.libcalignedsegment.AlignedSegment' objects>),\n",
       " ('__new__', <function AlignedSegment.__new__>),\n",
       " ('__pyx_vtable__', <capsule object NULL at 0x10357e420>),\n",
       " ('__reduce__',\n",
       "  <method '__reduce_cython__' of 'pysam.libcalignedsegment.AlignedSegment' objects>),\n",
       " ('__reduce_ex__', <method '__reduce_ex__' of 'object' objects>),\n",
       " ('__repr__', <slot wrapper '__repr__' of 'object' objects>),\n",
       " ('__setattr__', <slot wrapper '__setattr__' of 'object' objects>),\n",
       " ('__setstate__',\n",
       "  <method '__setstate_cython__' of 'pysam.libcalignedsegment.AlignedSegment' objects>),\n",
       " ('__sizeof__', <method '__sizeof__' of 'object' objects>),\n",
       " ('__str__',\n",
       "  <slot wrapper '__str__' of 'pysam.libcalignedsegment.AlignedSegment' objects>),\n",
       " ('__subclasshook__', <function AlignedSegment.__subclasshook__>),\n",
       " ('aend',\n",
       "  <attribute 'aend' of 'pysam.libcalignedsegment.AlignedSegment' objects>),\n",
       " ('alen',\n",
       "  <attribute 'alen' of 'pysam.libcalignedsegment.AlignedSegment' objects>),\n",
       " ('aligned_pairs',\n",
       "  <attribute 'aligned_pairs' of 'pysam.libcalignedsegment.AlignedSegment' objects>),\n",
       " ('bin',\n",
       "  <attribute 'bin' of 'pysam.libcalignedsegment.AlignedSegment' objects>),\n",
       " ('blocks',\n",
       "  <attribute 'blocks' of 'pysam.libcalignedsegment.AlignedSegment' objects>),\n",
       " ('cigar',\n",
       "  <attribute 'cigar' of 'pysam.libcalignedsegment.AlignedSegment' objects>),\n",
       " ('cigarstring',\n",
       "  <attribute 'cigarstring' of 'pysam.libcalignedsegment.AlignedSegment' objects>),\n",
       " ('cigartuples',\n",
       "  <attribute 'cigartuples' of 'pysam.libcalignedsegment.AlignedSegment' objects>),\n",
       " ('compare',\n",
       "  <method 'compare' of 'pysam.libcalignedsegment.AlignedSegment' objects>),\n",
       " ('flag',\n",
       "  <attribute 'flag' of 'pysam.libcalignedsegment.AlignedSegment' objects>),\n",
       " ('from_dict', <function AlignedSegment.from_dict>),\n",
       " ('fromstring', <function AlignedSegment.fromstring>),\n",
       " ('get_aligned_pairs',\n",
       "  <method 'get_aligned_pairs' of 'pysam.libcalignedsegment.AlignedSegment' objects>),\n",
       " ('get_blocks',\n",
       "  <method 'get_blocks' of 'pysam.libcalignedsegment.AlignedSegment' objects>),\n",
       " ('get_cigar_stats',\n",
       "  <method 'get_cigar_stats' of 'pysam.libcalignedsegment.AlignedSegment' objects>),\n",
       " ('get_forward_qualities',\n",
       "  <method 'get_forward_qualities' of 'pysam.libcalignedsegment.AlignedSegment' objects>),\n",
       " ('get_forward_sequence',\n",
       "  <method 'get_forward_sequence' of 'pysam.libcalignedsegment.AlignedSegment' objects>),\n",
       " ('get_overlap',\n",
       "  <method 'get_overlap' of 'pysam.libcalignedsegment.AlignedSegment' objects>),\n",
       " ('get_reference_positions',\n",
       "  <method 'get_reference_positions' of 'pysam.libcalignedsegment.AlignedSegment' objects>),\n",
       " ('get_reference_sequence',\n",
       "  <method 'get_reference_sequence' of 'pysam.libcalignedsegment.AlignedSegment' objects>),\n",
       " ('get_tag',\n",
       "  <method 'get_tag' of 'pysam.libcalignedsegment.AlignedSegment' objects>),\n",
       " ('get_tags',\n",
       "  <method 'get_tags' of 'pysam.libcalignedsegment.AlignedSegment' objects>),\n",
       " ('has_tag',\n",
       "  <method 'has_tag' of 'pysam.libcalignedsegment.AlignedSegment' objects>),\n",
       " ('header',\n",
       "  <attribute 'header' of 'pysam.libcalignedsegment.AlignedSegment' objects>),\n",
       " ('infer_query_length',\n",
       "  <method 'infer_query_length' of 'pysam.libcalignedsegment.AlignedSegment' objects>),\n",
       " ('infer_read_length',\n",
       "  <method 'infer_read_length' of 'pysam.libcalignedsegment.AlignedSegment' objects>),\n",
       " ('inferred_length',\n",
       "  <attribute 'inferred_length' of 'pysam.libcalignedsegment.AlignedSegment' objects>),\n",
       " ('is_duplicate',\n",
       "  <attribute 'is_duplicate' of 'pysam.libcalignedsegment.AlignedSegment' objects>),\n",
       " ('is_paired',\n",
       "  <attribute 'is_paired' of 'pysam.libcalignedsegment.AlignedSegment' objects>),\n",
       " ('is_proper_pair',\n",
       "  <attribute 'is_proper_pair' of 'pysam.libcalignedsegment.AlignedSegment' objects>),\n",
       " ('is_qcfail',\n",
       "  <attribute 'is_qcfail' of 'pysam.libcalignedsegment.AlignedSegment' objects>),\n",
       " ('is_read1',\n",
       "  <attribute 'is_read1' of 'pysam.libcalignedsegment.AlignedSegment' objects>),\n",
       " ('is_read2',\n",
       "  <attribute 'is_read2' of 'pysam.libcalignedsegment.AlignedSegment' objects>),\n",
       " ('is_reverse',\n",
       "  <attribute 'is_reverse' of 'pysam.libcalignedsegment.AlignedSegment' objects>),\n",
       " ('is_secondary',\n",
       "  <attribute 'is_secondary' of 'pysam.libcalignedsegment.AlignedSegment' objects>),\n",
       " ('is_supplementary',\n",
       "  <attribute 'is_supplementary' of 'pysam.libcalignedsegment.AlignedSegment' objects>),\n",
       " ('is_unmapped',\n",
       "  <attribute 'is_unmapped' of 'pysam.libcalignedsegment.AlignedSegment' objects>),\n",
       " ('isize',\n",
       "  <attribute 'isize' of 'pysam.libcalignedsegment.AlignedSegment' objects>),\n",
       " ('mapping_quality',\n",
       "  <attribute 'mapping_quality' of 'pysam.libcalignedsegment.AlignedSegment' objects>),\n",
       " ('mapq',\n",
       "  <attribute 'mapq' of 'pysam.libcalignedsegment.AlignedSegment' objects>),\n",
       " ('mate_is_reverse',\n",
       "  <attribute 'mate_is_reverse' of 'pysam.libcalignedsegment.AlignedSegment' objects>),\n",
       " ('mate_is_unmapped',\n",
       "  <attribute 'mate_is_unmapped' of 'pysam.libcalignedsegment.AlignedSegment' objects>),\n",
       " ('mpos',\n",
       "  <attribute 'mpos' of 'pysam.libcalignedsegment.AlignedSegment' objects>),\n",
       " ('mrnm',\n",
       "  <attribute 'mrnm' of 'pysam.libcalignedsegment.AlignedSegment' objects>),\n",
       " ('next_reference_id',\n",
       "  <attribute 'next_reference_id' of 'pysam.libcalignedsegment.AlignedSegment' objects>),\n",
       " ('next_reference_name',\n",
       "  <attribute 'next_reference_name' of 'pysam.libcalignedsegment.AlignedSegment' objects>),\n",
       " ('next_reference_start',\n",
       "  <attribute 'next_reference_start' of 'pysam.libcalignedsegment.AlignedSegment' objects>),\n",
       " ('opt', <method 'opt' of 'pysam.libcalignedsegment.AlignedSegment' objects>),\n",
       " ('overlap',\n",
       "  <method 'overlap' of 'pysam.libcalignedsegment.AlignedSegment' objects>),\n",
       " ('pnext',\n",
       "  <attribute 'pnext' of 'pysam.libcalignedsegment.AlignedSegment' objects>),\n",
       " ('pos',\n",
       "  <attribute 'pos' of 'pysam.libcalignedsegment.AlignedSegment' objects>),\n",
       " ('positions',\n",
       "  <attribute 'positions' of 'pysam.libcalignedsegment.AlignedSegment' objects>),\n",
       " ('qend',\n",
       "  <attribute 'qend' of 'pysam.libcalignedsegment.AlignedSegment' objects>),\n",
       " ('qlen',\n",
       "  <attribute 'qlen' of 'pysam.libcalignedsegment.AlignedSegment' objects>),\n",
       " ('qname',\n",
       "  <attribute 'qname' of 'pysam.libcalignedsegment.AlignedSegment' objects>),\n",
       " ('qqual',\n",
       "  <attribute 'qqual' of 'pysam.libcalignedsegment.AlignedSegment' objects>),\n",
       " ('qstart',\n",
       "  <attribute 'qstart' of 'pysam.libcalignedsegment.AlignedSegment' objects>),\n",
       " ('qual',\n",
       "  <attribute 'qual' of 'pysam.libcalignedsegment.AlignedSegment' objects>),\n",
       " ('query',\n",
       "  <attribute 'query' of 'pysam.libcalignedsegment.AlignedSegment' objects>),\n",
       " ('query_alignment_end',\n",
       "  <attribute 'query_alignment_end' of 'pysam.libcalignedsegment.AlignedSegment' objects>),\n",
       " ('query_alignment_length',\n",
       "  <attribute 'query_alignment_length' of 'pysam.libcalignedsegment.AlignedSegment' objects>),\n",
       " ('query_alignment_qualities',\n",
       "  <attribute 'query_alignment_qualities' of 'pysam.libcalignedsegment.AlignedSegment' objects>),\n",
       " ('query_alignment_sequence',\n",
       "  <attribute 'query_alignment_sequence' of 'pysam.libcalignedsegment.AlignedSegment' objects>),\n",
       " ('query_alignment_start',\n",
       "  <attribute 'query_alignment_start' of 'pysam.libcalignedsegment.AlignedSegment' objects>),\n",
       " ('query_length',\n",
       "  <attribute 'query_length' of 'pysam.libcalignedsegment.AlignedSegment' objects>),\n",
       " ('query_name',\n",
       "  <attribute 'query_name' of 'pysam.libcalignedsegment.AlignedSegment' objects>),\n",
       " ('query_qualities',\n",
       "  <attribute 'query_qualities' of 'pysam.libcalignedsegment.AlignedSegment' objects>),\n",
       " ('query_sequence',\n",
       "  <attribute 'query_sequence' of 'pysam.libcalignedsegment.AlignedSegment' objects>),\n",
       " ('reference_end',\n",
       "  <attribute 'reference_end' of 'pysam.libcalignedsegment.AlignedSegment' objects>),\n",
       " ('reference_id',\n",
       "  <attribute 'reference_id' of 'pysam.libcalignedsegment.AlignedSegment' objects>),\n",
       " ('reference_length',\n",
       "  <attribute 'reference_length' of 'pysam.libcalignedsegment.AlignedSegment' objects>),\n",
       " ('reference_name',\n",
       "  <attribute 'reference_name' of 'pysam.libcalignedsegment.AlignedSegment' objects>),\n",
       " ('reference_start',\n",
       "  <attribute 'reference_start' of 'pysam.libcalignedsegment.AlignedSegment' objects>),\n",
       " ('rlen',\n",
       "  <attribute 'rlen' of 'pysam.libcalignedsegment.AlignedSegment' objects>),\n",
       " ('rname',\n",
       "  <attribute 'rname' of 'pysam.libcalignedsegment.AlignedSegment' objects>),\n",
       " ('rnext',\n",
       "  <attribute 'rnext' of 'pysam.libcalignedsegment.AlignedSegment' objects>),\n",
       " ('seq',\n",
       "  <attribute 'seq' of 'pysam.libcalignedsegment.AlignedSegment' objects>),\n",
       " ('setTag',\n",
       "  <method 'setTag' of 'pysam.libcalignedsegment.AlignedSegment' objects>),\n",
       " ('set_tag',\n",
       "  <method 'set_tag' of 'pysam.libcalignedsegment.AlignedSegment' objects>),\n",
       " ('set_tags',\n",
       "  <method 'set_tags' of 'pysam.libcalignedsegment.AlignedSegment' objects>),\n",
       " ('tags',\n",
       "  <attribute 'tags' of 'pysam.libcalignedsegment.AlignedSegment' objects>),\n",
       " ('template_length',\n",
       "  <attribute 'template_length' of 'pysam.libcalignedsegment.AlignedSegment' objects>),\n",
       " ('tid',\n",
       "  <attribute 'tid' of 'pysam.libcalignedsegment.AlignedSegment' objects>),\n",
       " ('tlen',\n",
       "  <attribute 'tlen' of 'pysam.libcalignedsegment.AlignedSegment' objects>),\n",
       " ('to_dict',\n",
       "  <method 'to_dict' of 'pysam.libcalignedsegment.AlignedSegment' objects>),\n",
       " ('to_string',\n",
       "  <method 'to_string' of 'pysam.libcalignedsegment.AlignedSegment' objects>),\n",
       " ('tostring',\n",
       "  <method 'tostring' of 'pysam.libcalignedsegment.AlignedSegment' objects>)]"
      ]
     },
     "execution_count": 59,
     "metadata": {},
     "output_type": "execute_result"
    }
   ],
   "source": [
    "inspect.getmembers(pysam.AlignedSegment)"
   ]
  },
  {
   "cell_type": "code",
   "execution_count": null,
   "metadata": {},
   "outputs": [],
   "source": []
  },
  {
   "cell_type": "code",
   "execution_count": null,
   "metadata": {},
   "outputs": [],
   "source": []
  },
  {
   "cell_type": "code",
   "execution_count": null,
   "metadata": {},
   "outputs": [],
   "source": []
  }
 ],
 "metadata": {
  "kernelspec": {
   "display_name": "Python 3",
   "language": "python",
   "name": "python3"
  },
  "language_info": {
   "codemirror_mode": {
    "name": "ipython",
    "version": 3
   },
   "file_extension": ".py",
   "mimetype": "text/x-python",
   "name": "python",
   "nbconvert_exporter": "python",
   "pygments_lexer": "ipython3",
   "version": "3.7.3"
  }
 },
 "nbformat": 4,
 "nbformat_minor": 4
}
