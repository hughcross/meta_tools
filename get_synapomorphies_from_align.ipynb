{
 "cells": [
  {
   "cell_type": "markdown",
   "metadata": {},
   "source": [
    "## Define synapomorphies from alignment, for different taxonomic levels"
   ]
  },
  {
   "cell_type": "code",
   "execution_count": 4,
   "metadata": {
    "collapsed": true
   },
   "outputs": [],
   "source": [
    "import numpy as np\n",
    "import pandas as pd\n",
    "import sqlite3\n",
    "from __future__ import division\n",
    "from Bio import AlignIO"
   ]
  },
  {
   "cell_type": "code",
   "execution_count": 1,
   "metadata": {
    "collapsed": true
   },
   "outputs": [],
   "source": [
    "%load?"
   ]
  },
  {
   "cell_type": "markdown",
   "metadata": {},
   "source": [
    "### Start with synapomizer script had built before"
   ]
  },
  {
   "cell_type": "code",
   "execution_count": 6,
   "metadata": {
    "collapsed": true
   },
   "outputs": [],
   "source": [
    "# %load -r 22-32 /Users/hughcross/scripts/synapomizer.py\n",
    "def number_alleles(column):\n",
    "    leng = len(column)\n",
    "    bp_list = []\n",
    "    for bp in range(0,leng):\n",
    "        pos = column[bp]\n",
    "        if pos in bp_list:\n",
    "            pass\n",
    "        else:\n",
    "            bp_list.append(pos)\n",
    "    #no_alleles = len(bp_list) # maybe take out if a gap\n",
    "    return bp_list"
   ]
  },
  {
   "cell_type": "code",
   "execution_count": 25,
   "metadata": {
    "collapsed": true
   },
   "outputs": [],
   "source": [
    "# %load -r 34-49 /Users/hughcross/scripts/synapomizer.py\n",
    "def informative_alleles(character_dict):\n",
    "    \"\"\"a function to filter out uninformative positions\"\"\"\n",
    "    new_dict = {}\n",
    "    allele_list = []\n",
    "    for k,v in character_dict.iteritems():\n",
    "        newd = v\n",
    "        for key,value in newd.iteritems():\n",
    "            new_dict.setdefault(key, []).append(value)\n",
    "    #print new_dict\n",
    "    for keys, values in new_dict.iteritems():\n",
    "        alleles = set(values)\n",
    "        #print keys\n",
    "        #print alleles\n",
    "        if len(alleles) > 1:\n",
    "            allele_list.append(keys)\n",
    "    return allele_list"
   ]
  },
  {
   "cell_type": "code",
   "execution_count": 12,
   "metadata": {
    "collapsed": true
   },
   "outputs": [],
   "source": [
    "# start with a file, then import muscle to make other alignments\n",
    "# %load -r 9-12 /Users/hughcross/scripts/synapomizer.py\n",
    "align_file = '/Users/hughcross/analysis/char_trial/partial_mammal_practice1_aln.fasta'\n",
    "alignment = AlignIO.read(align_file, 'fasta')\n",
    "length = alignment.get_alignment_length()"
   ]
  },
  {
   "cell_type": "code",
   "execution_count": 20,
   "metadata": {
    "collapsed": true
   },
   "outputs": [],
   "source": [
    "# %load -r 14-19 /Users/hughcross/scripts/synapomizer.py\n",
    "#create a dictionary with sample# : genus name ## note: need to make this part flexible so that different taxonomic levels can be used\n",
    "name_map = {} # also maybe make a list of each genus, and a dict where key = genus, values = number of species in genus\n",
    "for i, record in enumerate(alignment):\n",
    "    fullname = record.id\n",
    "    newname = fullname.split('_')[0]\n",
    "    name_map[i]=newname"
   ]
  },
  {
   "cell_type": "code",
   "execution_count": 21,
   "metadata": {
    "collapsed": false
   },
   "outputs": [
    {
     "name": "stdout",
     "output_type": "stream",
     "text": [
      "[4, 10, 11, 12, 13, 14, 15, 17, 18, 19, 20, 21, 22, 23, 24, 25, 26, 27, 32, 33, 34, 35, 36, 37, 38, 39, 40, 43, 47, 52, 53, 54, 55, 57, 59, 62, 63, 64, 65, 66, 68, 79, 83, 84, 87, 94, 96, 99, 100]\n",
      "49\n"
     ]
    }
   ],
   "source": [
    "# %load -r 51-66 /Users/hughcross/scripts/synapomizer.py\n",
    "pos_list = []\n",
    "for num in range(0,length):\n",
    "    position = alignment[:,num] # add num to list\n",
    "    #print position\n",
    "    allele_list = number_alleles(position)\n",
    "    no_alleles = len(allele_list)\n",
    "    \n",
    "    if '-' in allele_list:\n",
    "        no_alleles = no_alleles - 1\n",
    "    #print no_alleles\n",
    "\n",
    "    if no_alleles > 1:\n",
    "        #print position\n",
    "        pos_list.append(num)\n",
    "print pos_list\n",
    "print len(pos_list)"
   ]
  },
  {
   "cell_type": "code",
   "execution_count": 34,
   "metadata": {
    "collapsed": false
   },
   "outputs": [],
   "source": [
    "ambigs = {'AT':'W','TA':'W','CG':'S','GC':'S','CT':'Y','TC':'Y','AG':'R','GA':'R','AC':'M','CA':'M','GT':'K','TG':'K'}"
   ]
  },
  {
   "cell_type": "code",
   "execution_count": 37,
   "metadata": {
    "collapsed": false
   },
   "outputs": [],
   "source": [
    "# %load -r 68-85 /Users/hughcross/scripts/synapomizer.py\n",
    "## note: fixing ambiguous characters in original below (was 'continue')\n",
    "final_chars = {}\n",
    "\n",
    "for pos in pos_list:\n",
    "    gen_char_dict = {}\n",
    "    for sample in range(0,44):\n",
    "        char = alignment[sample,pos]\n",
    "        genus = name_map[sample]\n",
    "        gen_char_dict.setdefault(genus, []).append(char)\n",
    "    for key, values in gen_char_dict.iteritems():\n",
    "        #print key\n",
    "        newlist = gen_char_dict[key]\n",
    "        #print newlist\n",
    "        check = set(newlist)\n",
    "        #print check\n",
    "        size = len(check)\n",
    "        if size > 2:\n",
    "            #final_chars.setdefault(key, {})[pos]='N'\n",
    "            newchar = 'N'\n",
    "        elif size == 2:\n",
    "            amb_str = ''\n",
    "            for bp in check:\n",
    "                amb_str = amb_str + bp\n",
    "            if '-' in amb_str:\n",
    "                newchar = amb_str.replace('-','') # may want to count the gaps and adjust later\n",
    "            else:\n",
    "                newchar = ambigs[amb_str]\n",
    "                #final_chars.setdefault(key, {})[pos]=newchar\n",
    "            \n",
    "        else:\n",
    "            newchar = newlist[0]\n",
    "        final_chars.setdefault(key, {})[pos]=newchar"
   ]
  },
  {
   "cell_type": "code",
   "execution_count": 38,
   "metadata": {
    "collapsed": false
   },
   "outputs": [
    {
     "name": "stdout",
     "output_type": "stream",
     "text": [
      "[4, 10, 11, 12, 13, 14, 15, 17, 18, 19, 20, 21, 22, 23, 24, 25, 26, 27, 32, 33, 34, 35, 36, 37, 38, 39, 40, 43, 47, 52, 53, 54, 55, 57, 59, 62, 63, 64, 65, 66, 68, 79, 83, 84, 87, 94, 96, 99, 100]\n",
      "49\n"
     ]
    }
   ],
   "source": [
    "# %load -r 89-95 /Users/hughcross/scripts/synapomizer.py\n",
    "# To filter out the characters that have only one alleles; it is variable but only one synapomorphy\n",
    "## perhaps compare dictionaries in final_chars, if all at one position the same, then delete. \n",
    "### try to make it a function \n",
    "\n",
    "inform_alleles = informative_alleles(final_chars)\n",
    "print inform_alleles\n",
    "print len(inform_alleles)"
   ]
  },
  {
   "cell_type": "code",
   "execution_count": 39,
   "metadata": {
    "collapsed": false
   },
   "outputs": [
    {
     "name": "stdout",
     "output_type": "stream",
     "text": [
      "{'Felis': {4: 'C', 10: 'T', 11: 'T', 12: 'A', 13: 'G', 14: 'A', 15: 'T', 17: 'A', 18: 'G', 19: 'T', 20: 'T', 21: 'A', 22: 'Y', 23: 'C', 24: 'C', 25: 'T', 26: 'A', 27: 'R', 32: 'A', 33: 'A', 34: 'C', 35: 'T', 36: 'A', 37: 'T', 38: 'C', 39: 'C', 40: 'G', 43: 'A', 47: 'A', 52: 'C', 53: 'Y', 54: 'A', 55: 'G', 57: 'A', 59: 'Y', 62: 'C', 63: 'T', 64: 'T', 65: 'A', 66: 'R', 68: 'A', 79: 'T', 83: 'C', 84: 'G', 87: 'G', 94: 'C', 96: 'T', 99: 'C', 100: 'T'}, 'Crocidura': {4: 'C', 10: 'C', 11: 'A', 12: 'A', 13: 'A', 14: 'A', 15: 'C', 17: 'A', 18: 'A', 19: 'T', 20: 'T', 21: 'W', 22: 'A', 23: '-', 24: '-', 25: 'A', 26: 'T', 27: 'A', 32: 'R', 33: 'A', 34: 'C', 35: 'T', 36: 'G', 37: 'T', 38: 'T', 39: 'C', 40: 'G', 43: 'A', 47: 'W', 52: 'C', 53: 'T', 54: 'A', 55: 'G', 57: 'M', 59: 'Y', 62: 'C', 63: 'T', 64: 'T', 65: 'A', 66: 'A', 68: 'A', 79: 'T', 83: 'C', 84: 'G', 87: 'G', 94: 'T', 96: 'T', 99: 'A', 100: 'T'}, 'Bos': {4: 'C', 10: 'W', 11: 'C', 12: 'A', 13: 'G', 14: 'A', 15: 'T', 17: 'A', 18: 'A', 19: 'T', 20: 'T', 21: 'R', 22: 'Y', 23: '-', 24: 'A', 25: 'T', 26: 'A', 27: 'A', 32: 'A', 33: 'A', 34: 'T', 35: 'T', 36: 'A', 37: 'T', 38: 'T', 39: 'Y', 40: 'G', 43: 'A', 47: 'T', 52: 'C', 53: 'Y', 54: 'A', 55: 'G', 57: 'A', 59: 'C', 62: 'C', 63: 'T', 64: 'T', 65: 'A', 66: 'A', 68: 'A', 79: 'T', 83: 'C', 84: 'G', 87: 'G', 94: 'T', 96: 'T', 99: 'N', 100: 'N'}, 'Cricetulus': {4: 'Y', 10: 'C', 11: 'T', 12: 'R', 13: 'A', 14: 'R', 15: 'N', 17: 'R', 18: 'R', 19: 'T', 20: 'T', 21: 'R', 22: 'A', 23: '-', 24: '-', 25: 'A', 26: 'Y', 27: 'A', 32: 'A', 33: 'A', 34: 'C', 35: 'Y', 36: 'M', 37: 'Y', 38: 'T', 39: 'T', 40: 'G', 43: 'Y', 47: 'A', 52: 'C', 53: 'T', 54: 'R', 55: 'G', 57: 'C', 59: 'C', 62: 'C', 63: 'T', 64: 'T', 65: 'A', 66: 'A', 68: 'A', 79: 'T', 83: 'C', 84: 'G', 87: 'A', 94: 'T', 96: 'T', 99: 'A', 100: 'T'}, 'Canis': {4: 'S', 10: 'A', 11: 'T', 12: 'A', 13: 'R', 14: 'R', 15: 'Y', 17: 'N', 18: 'R', 19: 'T', 20: 'Y', 21: 'Y', 22: 'W', 23: '-', 24: '-', 25: 'N', 26: 'Y', 27: 'A', 32: 'A', 33: 'A', 34: 'T', 35: 'A', 36: 'A', 37: 'T', 38: 'T', 39: 'C', 40: 'R', 43: 'A', 47: 'R', 52: 'Y', 53: 'T', 54: 'A', 55: 'G', 57: 'A', 59: 'Y', 62: 'C', 63: 'T', 64: 'T', 65: 'A', 66: 'A', 68: 'W', 79: 'K', 83: 'Y', 84: 'K', 87: 'K', 94: 'T', 96: 'Y', 99: 'C', 100: 'T'}, 'Capra': {4: 'C', 10: 'A', 11: 'Y', 12: 'A', 13: 'A', 14: 'A', 15: 'T', 17: 'A', 18: 'A', 19: 'T', 20: 'T', 21: 'A', 22: 'C', 23: 'A', 24: 'A', 25: 'R', 26: 'A', 27: 'A', 32: 'R', 33: 'A', 34: 'T', 35: 'T', 36: 'A', 37: 'T', 38: 'T', 39: 'C', 40: 'G', 43: 'A', 47: 'T', 52: 'C', 53: 'C', 54: 'G', 55: 'R', 57: 'A', 59: 'C', 62: 'Y', 63: 'C', 64: 'C', 65: 'G', 66: 'A', 68: 'A', 79: 'T', 83: 'C', 84: 'G', 87: 'G', 94: 'Y', 96: 'C', 99: 'T', 100: 'T'}, 'Equus': {4: 'C', 10: 'Y', 11: 'A', 12: 'A', 13: 'A', 14: 'A', 15: 'T', 17: 'A', 18: 'R', 19: 'C', 20: 'T', 21: 'C', 22: 'A', 23: 'Y', 24: 'C', 25: 'A', 26: 'Y', 27: 'A', 32: 'A', 33: 'G', 34: 'Y', 35: 'T', 36: 'A', 37: 'T', 38: 'T', 39: 'C', 40: 'G', 43: 'A', 47: 'T', 52: 'C', 53: 'T', 54: 'A', 55: 'G', 57: 'A', 59: 'C', 62: 'C', 63: 'C', 64: 'T', 65: 'A', 66: 'A', 68: 'A', 79: 'T', 83: 'C', 84: 'G', 87: 'G', 94: 'C', 96: 'T', 99: 'C', 100: 'T'}}\n",
      "{0: 'Bos', 1: 'Bos', 2: 'Bos', 3: 'Bos', 4: 'Bos', 5: 'Bos', 6: 'Bos', 7: 'Bos', 8: 'Bos', 9: 'Bos', 10: 'Canis', 11: 'Canis', 12: 'Canis', 13: 'Canis', 14: 'Canis', 15: 'Canis', 16: 'Canis', 17: 'Canis', 18: 'Canis', 19: 'Canis', 20: 'Canis', 21: 'Capra', 22: 'Capra', 23: 'Capra', 24: 'Capra', 25: 'Capra', 26: 'Capra', 27: 'Cricetulus', 28: 'Cricetulus', 29: 'Cricetulus', 30: 'Cricetulus', 31: 'Crocidura', 32: 'Crocidura', 33: 'Crocidura', 34: 'Equus', 35: 'Equus', 36: 'Equus', 37: 'Equus', 38: 'Equus', 39: 'Felis', 40: 'Felis', 41: 'Felis', 42: 'Felis', 43: 'Felis'}\n"
     ]
    }
   ],
   "source": [
    "# %load -r 97-109 /Users/hughcross/scripts/synapomizer.py\n",
    "# the informative_alleles function makes a list of informative alleles, then the next loop creates a filtered dictionary of dicts for each genus\n",
    "filtered_chars1 = {}\n",
    "for k,v in final_chars.iteritems():\n",
    "    tax_dict = v  #final_chars[k]\n",
    "    #print tax_dict\n",
    "    for key, value in tax_dict.iteritems():\n",
    "        if key in inform_alleles:\n",
    "            filtered_chars1.setdefault(k, {})[key]=value\n",
    "\n",
    "# now maybe sort the dictionary\n",
    "print filtered_chars1\n",
    "print name_map\n",
    "#now to deal with gaps?, maybe later"
   ]
  },
  {
   "cell_type": "code",
   "execution_count": 40,
   "metadata": {
    "collapsed": false
   },
   "outputs": [
    {
     "data": {
      "text/plain": [
       "7"
      ]
     },
     "execution_count": 40,
     "metadata": {},
     "output_type": "execute_result"
    }
   ],
   "source": [
    "# maybe make genotype dict for each genus (could also make it string)\n",
    "genotypes = {} # dict of lists: {Felis: ['T', 'T',...]}\n",
    "for k,v in filtered_chars1.iteritems():\n",
    "    for i in inform_alleles:\n",
    "        geno = v[i]\n",
    "        genotypes.setdefault(k, []).append(geno)\n",
    "len(genotypes)\n",
    "        "
   ]
  },
  {
   "cell_type": "code",
   "execution_count": 41,
   "metadata": {
    "collapsed": false
   },
   "outputs": [
    {
     "data": {
      "text/plain": [
       "{'Bos': ['C',\n",
       "  'W',\n",
       "  'C',\n",
       "  'A',\n",
       "  'G',\n",
       "  'A',\n",
       "  'T',\n",
       "  'A',\n",
       "  'A',\n",
       "  'T',\n",
       "  'T',\n",
       "  'R',\n",
       "  'Y',\n",
       "  '-',\n",
       "  'A',\n",
       "  'T',\n",
       "  'A',\n",
       "  'A',\n",
       "  'A',\n",
       "  'A',\n",
       "  'T',\n",
       "  'T',\n",
       "  'A',\n",
       "  'T',\n",
       "  'T',\n",
       "  'Y',\n",
       "  'G',\n",
       "  'A',\n",
       "  'T',\n",
       "  'C',\n",
       "  'Y',\n",
       "  'A',\n",
       "  'G',\n",
       "  'A',\n",
       "  'C',\n",
       "  'C',\n",
       "  'T',\n",
       "  'T',\n",
       "  'A',\n",
       "  'A',\n",
       "  'A',\n",
       "  'T',\n",
       "  'C',\n",
       "  'G',\n",
       "  'G',\n",
       "  'T',\n",
       "  'T',\n",
       "  'N',\n",
       "  'N'],\n",
       " 'Canis': ['S',\n",
       "  'A',\n",
       "  'T',\n",
       "  'A',\n",
       "  'R',\n",
       "  'R',\n",
       "  'Y',\n",
       "  'N',\n",
       "  'R',\n",
       "  'T',\n",
       "  'Y',\n",
       "  'Y',\n",
       "  'W',\n",
       "  '-',\n",
       "  '-',\n",
       "  'N',\n",
       "  'Y',\n",
       "  'A',\n",
       "  'A',\n",
       "  'A',\n",
       "  'T',\n",
       "  'A',\n",
       "  'A',\n",
       "  'T',\n",
       "  'T',\n",
       "  'C',\n",
       "  'R',\n",
       "  'A',\n",
       "  'R',\n",
       "  'Y',\n",
       "  'T',\n",
       "  'A',\n",
       "  'G',\n",
       "  'A',\n",
       "  'Y',\n",
       "  'C',\n",
       "  'T',\n",
       "  'T',\n",
       "  'A',\n",
       "  'A',\n",
       "  'W',\n",
       "  'K',\n",
       "  'Y',\n",
       "  'K',\n",
       "  'K',\n",
       "  'T',\n",
       "  'Y',\n",
       "  'C',\n",
       "  'T'],\n",
       " 'Capra': ['C',\n",
       "  'A',\n",
       "  'Y',\n",
       "  'A',\n",
       "  'A',\n",
       "  'A',\n",
       "  'T',\n",
       "  'A',\n",
       "  'A',\n",
       "  'T',\n",
       "  'T',\n",
       "  'A',\n",
       "  'C',\n",
       "  'A',\n",
       "  'A',\n",
       "  'R',\n",
       "  'A',\n",
       "  'A',\n",
       "  'R',\n",
       "  'A',\n",
       "  'T',\n",
       "  'T',\n",
       "  'A',\n",
       "  'T',\n",
       "  'T',\n",
       "  'C',\n",
       "  'G',\n",
       "  'A',\n",
       "  'T',\n",
       "  'C',\n",
       "  'C',\n",
       "  'G',\n",
       "  'R',\n",
       "  'A',\n",
       "  'C',\n",
       "  'Y',\n",
       "  'C',\n",
       "  'C',\n",
       "  'G',\n",
       "  'A',\n",
       "  'A',\n",
       "  'T',\n",
       "  'C',\n",
       "  'G',\n",
       "  'G',\n",
       "  'Y',\n",
       "  'C',\n",
       "  'T',\n",
       "  'T'],\n",
       " 'Cricetulus': ['Y',\n",
       "  'C',\n",
       "  'T',\n",
       "  'R',\n",
       "  'A',\n",
       "  'R',\n",
       "  'N',\n",
       "  'R',\n",
       "  'R',\n",
       "  'T',\n",
       "  'T',\n",
       "  'R',\n",
       "  'A',\n",
       "  '-',\n",
       "  '-',\n",
       "  'A',\n",
       "  'Y',\n",
       "  'A',\n",
       "  'A',\n",
       "  'A',\n",
       "  'C',\n",
       "  'Y',\n",
       "  'M',\n",
       "  'Y',\n",
       "  'T',\n",
       "  'T',\n",
       "  'G',\n",
       "  'Y',\n",
       "  'A',\n",
       "  'C',\n",
       "  'T',\n",
       "  'R',\n",
       "  'G',\n",
       "  'C',\n",
       "  'C',\n",
       "  'C',\n",
       "  'T',\n",
       "  'T',\n",
       "  'A',\n",
       "  'A',\n",
       "  'A',\n",
       "  'T',\n",
       "  'C',\n",
       "  'G',\n",
       "  'A',\n",
       "  'T',\n",
       "  'T',\n",
       "  'A',\n",
       "  'T'],\n",
       " 'Crocidura': ['C',\n",
       "  'C',\n",
       "  'A',\n",
       "  'A',\n",
       "  'A',\n",
       "  'A',\n",
       "  'C',\n",
       "  'A',\n",
       "  'A',\n",
       "  'T',\n",
       "  'T',\n",
       "  'W',\n",
       "  'A',\n",
       "  '-',\n",
       "  '-',\n",
       "  'A',\n",
       "  'T',\n",
       "  'A',\n",
       "  'R',\n",
       "  'A',\n",
       "  'C',\n",
       "  'T',\n",
       "  'G',\n",
       "  'T',\n",
       "  'T',\n",
       "  'C',\n",
       "  'G',\n",
       "  'A',\n",
       "  'W',\n",
       "  'C',\n",
       "  'T',\n",
       "  'A',\n",
       "  'G',\n",
       "  'M',\n",
       "  'Y',\n",
       "  'C',\n",
       "  'T',\n",
       "  'T',\n",
       "  'A',\n",
       "  'A',\n",
       "  'A',\n",
       "  'T',\n",
       "  'C',\n",
       "  'G',\n",
       "  'G',\n",
       "  'T',\n",
       "  'T',\n",
       "  'A',\n",
       "  'T'],\n",
       " 'Equus': ['C',\n",
       "  'Y',\n",
       "  'A',\n",
       "  'A',\n",
       "  'A',\n",
       "  'A',\n",
       "  'T',\n",
       "  'A',\n",
       "  'R',\n",
       "  'C',\n",
       "  'T',\n",
       "  'C',\n",
       "  'A',\n",
       "  'Y',\n",
       "  'C',\n",
       "  'A',\n",
       "  'Y',\n",
       "  'A',\n",
       "  'A',\n",
       "  'G',\n",
       "  'Y',\n",
       "  'T',\n",
       "  'A',\n",
       "  'T',\n",
       "  'T',\n",
       "  'C',\n",
       "  'G',\n",
       "  'A',\n",
       "  'T',\n",
       "  'C',\n",
       "  'T',\n",
       "  'A',\n",
       "  'G',\n",
       "  'A',\n",
       "  'C',\n",
       "  'C',\n",
       "  'C',\n",
       "  'T',\n",
       "  'A',\n",
       "  'A',\n",
       "  'A',\n",
       "  'T',\n",
       "  'C',\n",
       "  'G',\n",
       "  'G',\n",
       "  'C',\n",
       "  'T',\n",
       "  'C',\n",
       "  'T'],\n",
       " 'Felis': ['C',\n",
       "  'T',\n",
       "  'T',\n",
       "  'A',\n",
       "  'G',\n",
       "  'A',\n",
       "  'T',\n",
       "  'A',\n",
       "  'G',\n",
       "  'T',\n",
       "  'T',\n",
       "  'A',\n",
       "  'Y',\n",
       "  'C',\n",
       "  'C',\n",
       "  'T',\n",
       "  'A',\n",
       "  'R',\n",
       "  'A',\n",
       "  'A',\n",
       "  'C',\n",
       "  'T',\n",
       "  'A',\n",
       "  'T',\n",
       "  'C',\n",
       "  'C',\n",
       "  'G',\n",
       "  'A',\n",
       "  'A',\n",
       "  'C',\n",
       "  'Y',\n",
       "  'A',\n",
       "  'G',\n",
       "  'A',\n",
       "  'Y',\n",
       "  'C',\n",
       "  'T',\n",
       "  'T',\n",
       "  'A',\n",
       "  'R',\n",
       "  'A',\n",
       "  'T',\n",
       "  'C',\n",
       "  'G',\n",
       "  'G',\n",
       "  'C',\n",
       "  'T',\n",
       "  'C',\n",
       "  'T']}"
      ]
     },
     "execution_count": 41,
     "metadata": {},
     "output_type": "execute_result"
    }
   ],
   "source": [
    "genotypes"
   ]
  },
  {
   "cell_type": "markdown",
   "metadata": {},
   "source": [
    "### Need to add CIGAR functions to read score from usearch output, and assign bp of each seq"
   ]
  },
  {
   "cell_type": "code",
   "execution_count": null,
   "metadata": {
    "collapsed": true
   },
   "outputs": [],
   "source": []
  }
 ],
 "metadata": {
  "kernelspec": {
   "display_name": "Python 2",
   "language": "python",
   "name": "python2"
  },
  "language_info": {
   "codemirror_mode": {
    "name": "ipython",
    "version": 2
   },
   "file_extension": ".py",
   "mimetype": "text/x-python",
   "name": "python",
   "nbconvert_exporter": "python",
   "pygments_lexer": "ipython2",
   "version": "2.7.12"
  }
 },
 "nbformat": 4,
 "nbformat_minor": 0
}
